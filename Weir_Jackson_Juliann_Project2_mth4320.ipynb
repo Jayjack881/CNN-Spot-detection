{
  "nbformat": 4,
  "nbformat_minor": 0,
  "metadata": {
    "accelerator": "GPU",
    "colab": {
      "name": "Weir-Jackson_Juliann_Project2_mth4320.ipynb",
      "provenance": [],
      "collapsed_sections": [
        "QqA0ylkZjgzE"
      ],
      "toc_visible": true,
      "machine_shape": "hm"
    },
    "kernelspec": {
      "display_name": "Python 3",
      "name": "python3"
    },
    "language_info": {
      "name": "python"
    }
  },
  "cells": [
    {
      "cell_type": "markdown",
      "metadata": {
        "id": "lreGqXrKERF5"
      },
      "source": [
        "#Imports "
      ]
    },
    {
      "cell_type": "code",
      "metadata": {
        "id": "L4eWtTmeS8Y2"
      },
      "source": [
        "import cv2\n",
        "import matplotlib.pyplot as plt\n",
        "from imutils import paths\n",
        "import numpy as np\n",
        "import os\n",
        "import PIL\n",
        "import tensorflow as tf\n",
        "import pandas as pd \n",
        "from zipfile import ZipFile\n",
        "from PIL import Image\n",
        "from tensorflow.python.ops.numpy_ops import np_config\n",
        "np_config.enable_numpy_behavior()\n",
        "import seaborn as sn"
      ],
      "execution_count": 1,
      "outputs": []
    },
    {
      "cell_type": "code",
      "metadata": {
        "id": "SPYn_SpTyHDc"
      },
      "source": [
        "from tensorflow import keras\n",
        "from tensorflow.keras import layers\n",
        "from sklearn.model_selection import train_test_split\n",
        "from sklearn.metrics import classification_report\n",
        "from tensorflow.keras.layers import Activation\n",
        "from tensorflow.keras.layers import Conv2D\n",
        "from tensorflow.keras.layers import Dense\n",
        "from tensorflow.keras.layers import Dropout\n",
        "from tensorflow.keras.layers import Flatten\n",
        "from tensorflow.keras.layers import InputLayer\n",
        "from tensorflow.keras.layers import MaxPooling2D\n",
        "from tensorflow.keras.models import Sequential\n",
        "from tensorflow.keras.optimizers import Adam\n",
        "from tensorflow.keras.optimizers import SGD\n",
        "from tensorflow.keras.regularizers import l2\n",
        "from tensorflow.keras.regularizers import l1_l2\n",
        "from tensorflow.keras.utils import to_categorical\n",
        "from tensorflow.python.client import device_lib\n",
        "from sklearn.metrics import confusion_matrix\n",
        "from tensorflow.keras.optimizers import SGD\n",
        "from tensorflow.keras.preprocessing import image\n",
        "from tensorflow.keras.preprocessing import image_dataset_from_directory"
      ],
      "execution_count": 2,
      "outputs": []
    },
    {
      "cell_type": "code",
      "metadata": {
        "colab": {
          "base_uri": "https://localhost:8080/"
        },
        "id": "A6Nmn50vTEoG",
        "outputId": "0f42ac4c-6b9e-48a5-b3f4-cbf859839462"
      },
      "source": [
        "from google.colab import drive\n",
        "drive.mount('/content/gdrive')"
      ],
      "execution_count": 3,
      "outputs": [
        {
          "output_type": "stream",
          "name": "stdout",
          "text": [
            "Drive already mounted at /content/gdrive; to attempt to forcibly remount, call drive.mount(\"/content/gdrive\", force_remount=True).\n"
          ]
        }
      ]
    },
    {
      "cell_type": "markdown",
      "metadata": {
        "id": "QdrgyZy0_bDC"
      },
      "source": [
        "# Loading Data"
      ]
    },
    {
      "cell_type": "code",
      "metadata": {
        "colab": {
          "base_uri": "https://localhost:8080/"
        },
        "id": "0CfwVXkyTIbR",
        "outputId": "c17b3067-9153-43ad-ba41-84b4ce6216f0"
      },
      "source": [
        "X_data =image_dataset_from_directory(\n",
        "    directory='/content/gdrive/MyDrive/data',\n",
        "    image_size=(224,224),\n",
        "    shuffle=True,\n",
        "    labels='inferred',\n",
        "    label_mode='binary', \n",
        "    color_mode='rgb',\n",
        "    seed=23,\n",
        "    batch_size=3262\n",
        ")"
      ],
      "execution_count": 4,
      "outputs": [
        {
          "output_type": "stream",
          "name": "stdout",
          "text": [
            "Found 3262 files belonging to 2 classes.\n"
          ]
        }
      ]
    },
    {
      "cell_type": "code",
      "metadata": {
        "id": "vjfVeLaDTLD_"
      },
      "source": [
        "for image_batch, labels_batch in X_data:\n",
        "  dataX=image_batch\n",
        "  dataY=np.array(labels_batch)"
      ],
      "execution_count": 5,
      "outputs": []
    },
    {
      "cell_type": "code",
      "metadata": {
        "id": "oEh1A4K7aaGZ"
      },
      "source": [
        "(trainX, testX, trainY, testY) = train_test_split(dataX,dataY, test_size = 0.40)"
      ],
      "execution_count": 6,
      "outputs": []
    },
    {
      "cell_type": "markdown",
      "metadata": {
        "id": "QqA0ylkZjgzE"
      },
      "source": [
        "# Benchmark"
      ]
    },
    {
      "cell_type": "markdown",
      "metadata": {
        "id": "dmkPdyuzYSRv"
      },
      "source": [
        "A shallow net conaing one convolution layer with actvation relu flatened "
      ]
    },
    {
      "cell_type": "code",
      "metadata": {
        "id": "oz7bmO9JcYmI"
      },
      "source": [
        "class ShallowNet:\n",
        "    # create the architecture\n",
        "    def build(height, width, depth, numFilters, classes):\n",
        "        # create a feedforward neural net\n",
        "        model = Sequential()\n",
        "        \n",
        "        # add a convolutional layer with numFilters number of 3x3 filters\n",
        "        model.add(Conv2D(numFilters, (3, 3), padding='same', input_shape = (height, width, depth)))\n",
        "        model.add(Activation('relu'))\n",
        "        \n",
        "        # add a softmax classifier\n",
        "        model.add(Flatten())\n",
        "        model.add(Dense(classes))\n",
        "        model.add(Activation('softmax'))\n",
        "        \n",
        "        return model"
      ],
      "execution_count": null,
      "outputs": []
    },
    {
      "cell_type": "code",
      "metadata": {
        "id": "Y46LZjVWclpl"
      },
      "source": [
        "trainX = trainX.astype('float32')/255.0"
      ],
      "execution_count": null,
      "outputs": []
    },
    {
      "cell_type": "code",
      "metadata": {
        "id": "zuBtyYVYfgeA"
      },
      "source": [
        "trainY = to_categorical(trainY)"
      ],
      "execution_count": null,
      "outputs": []
    },
    {
      "cell_type": "code",
      "metadata": {
        "colab": {
          "base_uri": "https://localhost:8080/",
          "height": 843
        },
        "id": "qpBiDK0Gc0kg",
        "outputId": "0ef9e008-700d-48f0-8b6d-a1c968d00faf"
      },
      "source": [
        "model = ShallowNet.build(224, 224, 3, 3, 2)\n",
        "model.compile(loss = 'categorical_crossentropy', optimizer = 'adam', metrics = ['acc'])\n",
        "print(model.summary())\n",
        "\n",
        "print(\"[INFO] training network...\")\n",
        "maxIt = 5\n",
        "H = model.fit(trainX, trainY, validation_split = 0.20, batch_size = 128, epochs = maxIt, verbose = 1)\n",
        "\n",
        "# plot the training loss and accuracy\n",
        "plt.style.use(\"ggplot\")\n",
        "plt.figure\n",
        "plt.plot(np.arange(0, maxIt), H.history[\"acc\"], label=\"train_acc\")\n",
        "plt.plot(np.arange(0, maxIt), H.history[\"val_acc\"], label=\"val_acc\")\n",
        "plt.title(\"Training Loss and Accuracy\")\n",
        "plt.xlabel(\"Epoch #\")\n",
        "plt.ylabel(\"Loss/Accuracy\")\n",
        "plt.legend()\n",
        "print('\\nTest Classification Report:\\n\\n', classification_report(testY, predictedY))\n",
        "print('\\nTest Confusion Matrix:\\n')\n",
        "\n",
        "sn.heatmap(confusion_matrix(testY, predictedY), annot = True)"
      ],
      "execution_count": null,
      "outputs": [
        {
          "name": "stdout",
          "output_type": "stream",
          "text": [
            "Model: \"sequential\"\n",
            "_________________________________________________________________\n",
            " Layer (type)                Output Shape              Param #   \n",
            "=================================================================\n",
            " conv2d (Conv2D)             (None, 224, 224, 3)       84        \n",
            "                                                                 \n",
            " activation (Activation)     (None, 224, 224, 3)       0         \n",
            "                                                                 \n",
            " flatten (Flatten)           (None, 150528)            0         \n",
            "                                                                 \n",
            " dense (Dense)               (None, 2)                 301058    \n",
            "                                                                 \n",
            " activation_1 (Activation)   (None, 2)                 0         \n",
            "                                                                 \n",
            "=================================================================\n",
            "Total params: 301,142\n",
            "Trainable params: 301,142\n",
            "Non-trainable params: 0\n",
            "_________________________________________________________________\n",
            "None\n",
            "[INFO] training network...\n",
            "Epoch 1/5\n",
            "13/13 [==============================] - 17s 85ms/step - loss: 5.5259 - acc: 0.5502 - val_loss: 2.6935 - val_acc: 0.5051\n",
            "Epoch 2/5\n",
            "13/13 [==============================] - 1s 56ms/step - loss: 1.1020 - acc: 0.6831 - val_loss: 0.4985 - val_acc: 0.7679\n",
            "Epoch 3/5\n",
            "13/13 [==============================] - 1s 56ms/step - loss: 0.4646 - acc: 0.8026 - val_loss: 0.4764 - val_acc: 0.8112\n",
            "Epoch 4/5\n",
            "13/13 [==============================] - 1s 54ms/step - loss: 0.4228 - acc: 0.8313 - val_loss: 0.4069 - val_acc: 0.8087\n",
            "Epoch 5/5\n",
            "13/13 [==============================] - 1s 53ms/step - loss: 0.3559 - acc: 0.8230 - val_loss: 0.3257 - val_acc: 0.8265\n"
          ]
        },
        {
          "data": {
            "text/plain": [
              "<matplotlib.legend.Legend at 0x7fe88e357fd0>"
            ]
          },
          "execution_count": 11,
          "metadata": {},
          "output_type": "execute_result"
        },
        {
          "data": {
            "image/png": "[encoded data removed]",
            "text/plain": [
              "<Figure size 432x288 with 1 Axes>"
            ]
          },
          "metadata": {},
          "output_type": "display_data"
        }
      ]
    },
    {
      "cell_type": "code",
      "metadata": {
        "id": "uvKAVosxj1Ew"
      },
      "source": [
        "testX = testX.astype('float32')/255.0\n",
        "testY = to_categorical(testY)"
      ],
      "execution_count": null,
      "outputs": []
    },
    {
      "cell_type": "code",
      "metadata": {
        "colab": {
          "base_uri": "https://localhost:8080/"
        },
        "id": "35N4-0nmj17o",
        "outputId": "8c6682da-77ae-4666-fdfe-94320cd5e643"
      },
      "source": [
        "model = ShallowNet.build(224, 224, 3, 3, 2)\n",
        "model.compile(loss = 'categorical_crossentropy', optimizer = 'adam', metrics = ['acc'])\n",
        "maxIt = 5\n",
        "H = model.fit(testX, testY, validation_split = 0.20, batch_size = 32, epochs = maxIt, verbose = 1)"
      ],
      "execution_count": null,
      "outputs": [
        {
          "name": "stdout",
          "output_type": "stream",
          "text": [
            "Epoch 1/5\n",
            "33/33 [==============================] - 1s 25ms/step - loss: 1.8884 - acc: 0.6533 - val_loss: 0.3475 - val_acc: 0.8391\n",
            "Epoch 2/5\n",
            "33/33 [==============================] - 1s 18ms/step - loss: 0.3150 - acc: 0.8774 - val_loss: 0.2109 - val_acc: 0.9425\n",
            "Epoch 3/5\n",
            "33/33 [==============================] - 1s 18ms/step - loss: 0.1707 - acc: 0.9377 - val_loss: 0.1642 - val_acc: 0.9387\n",
            "Epoch 4/5\n",
            "33/33 [==============================] - 1s 18ms/step - loss: 0.1153 - acc: 0.9684 - val_loss: 0.1301 - val_acc: 0.9579\n",
            "Epoch 5/5\n",
            "33/33 [==============================] - 1s 18ms/step - loss: 0.0799 - acc: 0.9828 - val_loss: 0.1136 - val_acc: 0.9732\n"
          ]
        }
      ]
    },
    {
      "cell_type": "code",
      "metadata": {
        "colab": {
          "base_uri": "https://localhost:8080/",
          "height": 554
        },
        "id": "mE5jn-LLjqbC",
        "outputId": "07a25009-f0b2-42d5-9624-875eef1323ce"
      },
      "source": [
        "from seaborn import heatmap\n",
        "from sklearn.metrics import classification_report\n",
        "from sklearn.metrics import confusion_matrix\n",
        "\n",
        "import matplotlib.pyplot as plt\n",
        "\n",
        "# predict the labels of the test set\n",
        "predictedY = model.predict(testX)\n",
        "#Added \n",
        "predictedY = predictedY.argmax(axis=1)\n",
        "testY =testY.argmax(axis=1)\n",
        "\n",
        "# print quality metricsl\n",
        "print('\\nTesting Classification Report:\\n\\n', classification_report(testY, predictedY))\n",
        "\n",
        "# predict the labels of the test set\n",
        "predictedY = model.predict(testX)\n",
        "#Added\n",
        "predictedY = predictedY.argmax(axis=1)\n",
        "print('\\nTesting Confusion Matrix:\\n')\n",
        "\n",
        "heatmap(confusion_matrix(testY, predictedY))\n",
        "plt.figure()"
      ],
      "execution_count": null,
      "outputs": [
        {
          "name": "stdout",
          "output_type": "stream",
          "text": [
            "\n",
            "Testing Classification Report:\n",
            "\n",
            "               precision    recall  f1-score   support\n",
            "\n",
            "           0       0.99      0.96      0.98       418\n",
            "           1       0.98      1.00      0.99       887\n",
            "\n",
            "    accuracy                           0.98      1305\n",
            "   macro avg       0.99      0.98      0.98      1305\n",
            "weighted avg       0.98      0.98      0.98      1305\n",
            "\n",
            "\n",
            "Testing Confusion Matrix:\n",
            "\n"
          ]
        },
        {
          "data": {
            "text/plain": [
              "<Figure size 432x288 with 0 Axes>"
            ]
          },
          "execution_count": 14,
          "metadata": {},
          "output_type": "execute_result"
        },
        {
          "data": {
            "image/png": "[encoded data removed]",
            "text/plain": [
              "<Figure size 432x288 with 2 Axes>"
            ]
          },
          "metadata": {},
          "output_type": "display_data"
        },
        {
          "data": {
            "text/plain": [
              "<Figure size 432x288 with 0 Axes>"
            ]
          },
          "metadata": {},
          "output_type": "display_data"
        }
      ]
    },
    {
      "cell_type": "markdown",
      "metadata": {
        "id": "NyNWKubqWYoe"
      },
      "source": [
        "# LeNet"
      ]
    },
    {
      "cell_type": "code",
      "metadata": {
        "id": "fvBHU15fDhc6"
      },
      "source": [
        "class LeNet:\n",
        "    # create the architecture\n",
        "    def build(height, width, depth, classes):\n",
        "        # create a feedforward neural net\n",
        "        model = Sequential()\n",
        "        \n",
        "        # add a convolutional layer with 20 5x5 filters and a 2x2 max pooling layer\n",
        "        model.add(Conv2D(32, (5, 5), padding = 'same', input_shape = (height, width, depth)))\n",
        "        model.add(Activation('relu'))\n",
        "        model.add(MaxPooling2D(pool_size = (2, 2), strides = (2, 2)))\n",
        "        \n",
        "        # add another convolutional layer with 50 5x5 filters and a 2x2 max pooling layer\n",
        "        model.add(Conv2D(64, (5, 5), padding= 'same'))\n",
        "        model.add(Activation('relu'))\n",
        "        model.add(MaxPooling2D(pool_size = (2, 2), strides = (2, 2)))\n",
        "        \n",
        "        # add another convolutional layer\n",
        "        model.add(Conv2D(128, (5, 5), padding = 'same'))\n",
        "        model.add(Activation('relu'))\n",
        "        \n",
        "        # add a fully-connected layer\n",
        "        model.add(Flatten())\n",
        "        model.add(Dense(500))\n",
        "        model.add(Activation('relu'))\n",
        "        \n",
        "        # add a softmax classifier\n",
        "        model.add(Dense(classes))\n",
        "        model.add(Activation('softmax'))\n",
        "        \n",
        "        # return the constructed model\n",
        "        return model"
      ],
      "execution_count": 11,
      "outputs": []
    },
    {
      "cell_type": "code",
      "metadata": {
        "id": "Hcc6MwvtZy-P"
      },
      "source": [
        "trainX = trainX.astype('float32')/255.0\n",
        "testX = testX.astype('float32')/255.0\n",
        "\n",
        "trainX = np.expand_dims(trainX, -1)\n",
        "testX = np.expand_dims(testX, -1)\n",
        "\n",
        "trainY = to_categorical(trainY, 2)\n",
        "testY = to_categorical(testY, 2)"
      ],
      "execution_count": 9,
      "outputs": []
    },
    {
      "cell_type": "code",
      "metadata": {
        "colab": {
          "base_uri": "https://localhost:8080/",
          "height": 1000
        },
        "id": "B8ryHwCtDuV8",
        "outputId": "503b6510-5131-42d7-9f7a-de38be811c3e"
      },
      "source": [
        "tf.keras.backend.clear_session()\n",
        "\n",
        "\n",
        "model = LeNet.build(224, 224, 3, 2)\n",
        "model.compile(loss = 'categorical_crossentropy', optimizer = 'adam', metrics = ['accuracy'])\n",
        "\n",
        "print(\"[INFO] training network...\")\n",
        "maxIt = 10\n",
        "H = model.fit(trainX, trainY, validation_split = 0.20, batch_size = 16, epochs = maxIt, verbose = 1)\n",
        "print(model.summary())\n",
        "\n",
        "# plot the training loss and accuracy\n",
        "plt.style.use(\"ggplot\")\n",
        "plt.figure()\n",
        "# plt.plot(np.arange(0, maxIt), H.history[\"loss\"], label=\"train_loss\")\n",
        "# plt.plot(np.arange(0, maxIt), H.history[\"val_loss\"], label=\"val_loss\")\n",
        "plt.plot(np.arange(0, maxIt), H.history[\"accuracy\"], label=\"train_acc\")\n",
        "plt.plot(np.arange(0, maxIt), H.history[\"val_accuracy\"], label=\"val_acc\")\n",
        "plt.title(\"Training Loss and Accuracy\")\n",
        "plt.xlabel(\"Epoch #\")\n",
        "plt.ylabel(\"Loss/Accuracy\")\n",
        "plt.legend()"
      ],
      "execution_count": 10,
      "outputs": [
        {
          "output_type": "stream",
          "name": "stdout",
          "text": [
            "[INFO] training network...\n",
            "Epoch 1/10\n",
            "98/98 [==============================] - 6s 49ms/step - loss: 1.3597 - accuracy: 0.7054 - val_loss: 0.3656 - val_accuracy: 0.8418\n",
            "Epoch 2/10\n",
            "98/98 [==============================] - 4s 42ms/step - loss: 0.3087 - accuracy: 0.8658 - val_loss: 0.2744 - val_accuracy: 0.8903\n",
            "Epoch 3/10\n",
            "98/98 [==============================] - 4s 42ms/step - loss: 0.3226 - accuracy: 0.8677 - val_loss: 0.3956 - val_accuracy: 0.8087\n",
            "Epoch 4/10\n",
            "98/98 [==============================] - 4s 42ms/step - loss: 0.2769 - accuracy: 0.8780 - val_loss: 0.2171 - val_accuracy: 0.9209\n",
            "Epoch 5/10\n",
            "98/98 [==============================] - 4s 42ms/step - loss: 0.1728 - accuracy: 0.9342 - val_loss: 0.1592 - val_accuracy: 0.9413\n",
            "Epoch 6/10\n",
            "98/98 [==============================] - 4s 42ms/step - loss: 0.0929 - accuracy: 0.9629 - val_loss: 0.1015 - val_accuracy: 0.9541\n",
            "Epoch 7/10\n",
            "98/98 [==============================] - 4s 42ms/step - loss: 0.0364 - accuracy: 0.9859 - val_loss: 0.0987 - val_accuracy: 0.9745\n",
            "Epoch 8/10\n",
            "98/98 [==============================] - 4s 42ms/step - loss: 0.0177 - accuracy: 0.9949 - val_loss: 0.1322 - val_accuracy: 0.9668\n",
            "Epoch 9/10\n",
            "98/98 [==============================] - 4s 42ms/step - loss: 0.0199 - accuracy: 0.9936 - val_loss: 0.1818 - val_accuracy: 0.9566\n",
            "Epoch 10/10\n",
            "98/98 [==============================] - 4s 42ms/step - loss: 0.0140 - accuracy: 0.9974 - val_loss: 0.2046 - val_accuracy: 0.9541\n",
            "Model: \"sequential\"\n",
            "_________________________________________________________________\n",
            " Layer (type)                Output Shape              Param #   \n",
            "=================================================================\n",
            " conv2d (Conv2D)             (None, 224, 224, 32)      2432      \n",
            "                                                                 \n",
            " activation (Activation)     (None, 224, 224, 32)      0         \n",
            "                                                                 \n",
            " max_pooling2d (MaxPooling2D  (None, 112, 112, 32)     0         \n",
            " )                                                               \n",
            "                                                                 \n",
            " conv2d_1 (Conv2D)           (None, 112, 112, 64)      51264     \n",
            "                                                                 \n",
            " activation_1 (Activation)   (None, 112, 112, 64)      0         \n",
            "                                                                 \n",
            " max_pooling2d_1 (MaxPooling  (None, 56, 56, 64)       0         \n",
            " 2D)                                                             \n",
            "                                                                 \n",
            " conv2d_2 (Conv2D)           (None, 56, 56, 128)       204928    \n",
            "                                                                 \n",
            " activation_2 (Activation)   (None, 56, 56, 128)       0         \n",
            "                                                                 \n",
            " flatten (Flatten)           (None, 401408)            0         \n",
            "                                                                 \n",
            " dense (Dense)               (None, 500)               200704500 \n",
            "                                                                 \n",
            " activation_3 (Activation)   (None, 500)               0         \n",
            "                                                                 \n",
            " dense_1 (Dense)             (None, 2)                 1002      \n",
            "                                                                 \n",
            " activation_4 (Activation)   (None, 2)                 0         \n",
            "                                                                 \n",
            "=================================================================\n",
            "Total params: 200,964,126\n",
            "Trainable params: 200,964,126\n",
            "Non-trainable params: 0\n",
            "_________________________________________________________________\n",
            "None\n"
          ]
        },
        {
          "output_type": "execute_result",
          "data": {
            "text/plain": [
              "<matplotlib.legend.Legend at 0x7f1f1c4e1e90>"
            ]
          },
          "metadata": {},
          "execution_count": 10
        },
        {
          "output_type": "display_data",
          "data": {
            "image/png": "[encoded data removed]",
            "text/plain": [
              "<Figure size 432x288 with 1 Axes>"
            ]
          },
          "metadata": {}
        }
      ]
    },
    {
      "cell_type": "markdown",
      "metadata": {
        "id": "qCzQzsTRkO_q"
      },
      "source": [
        "# Lenet using SGD optimizer "
      ]
    },
    {
      "cell_type": "code",
      "metadata": {
        "id": "1UnggHgOnu2o"
      },
      "source": [
        "from tensorflow.keras.optimizers import SGD"
      ],
      "execution_count": 9,
      "outputs": []
    },
    {
      "cell_type": "markdown",
      "metadata": {
        "id": "LIoWOpxIDqfV"
      },
      "source": [
        "## Changing learning rate "
      ]
    },
    {
      "cell_type": "code",
      "metadata": {
        "id": "fXX7xoDqLsV2"
      },
      "source": [
        "trainX = trainX.astype('float32')/255.0\n",
        "testX = testX.astype('float32')/255.0\n",
        "\n",
        "trainX = np.expand_dims(trainX, -1)\n",
        "testX = np.expand_dims(testX, -1)\n",
        "\n",
        "trainY = to_categorical(trainY, 2)\n",
        "testY = to_categorical(testY, 2)"
      ],
      "execution_count": 7,
      "outputs": []
    },
    {
      "cell_type": "code",
      "metadata": {
        "colab": {
          "base_uri": "https://localhost:8080/"
        },
        "id": "zOotHxT-Doma",
        "outputId": "e3437245-b06f-4437-ecea-1cd772eca73d"
      },
      "source": [
        "\n",
        "print(\"[INFO] training network...\")\n",
        "\n",
        "for learning in [0.001,0.1,0.0001]:\n",
        "    model = LeNet.build(224, 224, 3, 2)\n",
        "    model.compile(loss = 'categorical_crossentropy', optimizer = SGD(learning), metrics = ['accuracy'])\n",
        "    maxIt = 10\n",
        "    H = model.fit(trainX, trainY, validation_split = 0.20, batch_size =32, epochs = maxIt)\n",
        "    print('Accuracy for differnt learning rates', learning, 'is', H.history['val_accuracy'][-1])\n"
      ],
      "execution_count": 11,
      "outputs": [
        {
          "output_type": "stream",
          "name": "stdout",
          "text": [
            "[INFO] training network...\n",
            "Epoch 1/10\n",
            "49/49 [==============================] - 5s 67ms/step - loss: 0.6539 - accuracy: 0.6767 - val_loss: 0.6492 - val_accuracy: 0.6454\n",
            "Epoch 2/10\n",
            "49/49 [==============================] - 2s 49ms/step - loss: 0.6127 - accuracy: 0.6984 - val_loss: 0.6110 - val_accuracy: 0.6454\n",
            "Epoch 3/10\n",
            "49/49 [==============================] - 2s 49ms/step - loss: 0.5723 - accuracy: 0.7342 - val_loss: 0.5717 - val_accuracy: 0.7806\n",
            "Epoch 4/10\n",
            "49/49 [==============================] - 2s 49ms/step - loss: 0.5337 - accuracy: 0.7591 - val_loss: 0.5804 - val_accuracy: 0.6760\n",
            "Epoch 5/10\n",
            "49/49 [==============================] - 2s 48ms/step - loss: 0.5075 - accuracy: 0.7725 - val_loss: 0.5313 - val_accuracy: 0.7474\n",
            "Epoch 6/10\n",
            "49/49 [==============================] - 2s 48ms/step - loss: 0.4891 - accuracy: 0.7783 - val_loss: 0.5283 - val_accuracy: 0.7500\n",
            "Epoch 7/10\n",
            "49/49 [==============================] - 2s 49ms/step - loss: 0.4935 - accuracy: 0.7706 - val_loss: 0.4962 - val_accuracy: 0.7806\n",
            "Epoch 8/10\n",
            "49/49 [==============================] - 2s 49ms/step - loss: 0.4841 - accuracy: 0.7725 - val_loss: 0.4980 - val_accuracy: 0.7679\n",
            "Epoch 9/10\n",
            "49/49 [==============================] - 2s 48ms/step - loss: 0.4796 - accuracy: 0.7834 - val_loss: 0.4816 - val_accuracy: 0.7781\n",
            "Epoch 10/10\n",
            "49/49 [==============================] - 2s 48ms/step - loss: 0.4686 - accuracy: 0.7802 - val_loss: 0.4953 - val_accuracy: 0.7781\n",
            "Accuracy for differnt learning rates 0.001 is 0.7780612111091614\n",
            "Epoch 1/10\n",
            "49/49 [==============================] - 3s 55ms/step - loss: nan - accuracy: 0.3565 - val_loss: nan - val_accuracy: 0.3546\n",
            "Epoch 2/10\n",
            "49/49 [==============================] - 2s 48ms/step - loss: nan - accuracy: 0.3150 - val_loss: nan - val_accuracy: 0.3546\n",
            "Epoch 3/10\n",
            "49/49 [==============================] - 2s 48ms/step - loss: nan - accuracy: 0.3150 - val_loss: nan - val_accuracy: 0.3546\n",
            "Epoch 4/10\n",
            "49/49 [==============================] - 2s 48ms/step - loss: nan - accuracy: 0.3150 - val_loss: nan - val_accuracy: 0.3546\n",
            "Epoch 5/10\n",
            "49/49 [==============================] - 2s 48ms/step - loss: nan - accuracy: 0.3150 - val_loss: nan - val_accuracy: 0.3546\n",
            "Epoch 6/10\n",
            "49/49 [==============================] - 2s 48ms/step - loss: nan - accuracy: 0.3150 - val_loss: nan - val_accuracy: 0.3546\n",
            "Epoch 7/10\n",
            "49/49 [==============================] - 2s 48ms/step - loss: nan - accuracy: 0.3150 - val_loss: nan - val_accuracy: 0.3546\n",
            "Epoch 8/10\n",
            "49/49 [==============================] - 2s 48ms/step - loss: nan - accuracy: 0.3150 - val_loss: nan - val_accuracy: 0.3546\n",
            "Epoch 9/10\n",
            "49/49 [==============================] - 2s 48ms/step - loss: nan - accuracy: 0.3150 - val_loss: nan - val_accuracy: 0.3546\n",
            "Epoch 10/10\n",
            "49/49 [==============================] - 2s 48ms/step - loss: nan - accuracy: 0.3150 - val_loss: nan - val_accuracy: 0.3546\n",
            "Accuracy for differnt learning rates 0.1 is 0.35459184646606445\n",
            "Epoch 1/10\n",
            "49/49 [==============================] - 3s 55ms/step - loss: 0.6867 - accuracy: 0.6141 - val_loss: 0.6836 - val_accuracy: 0.6454\n",
            "Epoch 2/10\n",
            "49/49 [==============================] - 2s 48ms/step - loss: 0.6750 - accuracy: 0.6850 - val_loss: 0.6780 - val_accuracy: 0.6454\n",
            "Epoch 3/10\n",
            "49/49 [==============================] - 2s 48ms/step - loss: 0.6680 - accuracy: 0.6850 - val_loss: 0.6743 - val_accuracy: 0.6454\n",
            "Epoch 4/10\n",
            "49/49 [==============================] - 2s 49ms/step - loss: 0.6630 - accuracy: 0.6850 - val_loss: 0.6711 - val_accuracy: 0.6454\n",
            "Epoch 5/10\n",
            "49/49 [==============================] - 2s 49ms/step - loss: 0.6589 - accuracy: 0.6850 - val_loss: 0.6681 - val_accuracy: 0.6454\n",
            "Epoch 6/10\n",
            "49/49 [==============================] - 2s 48ms/step - loss: 0.6549 - accuracy: 0.6850 - val_loss: 0.6649 - val_accuracy: 0.6454\n",
            "Epoch 7/10\n",
            "49/49 [==============================] - 2s 48ms/step - loss: 0.6512 - accuracy: 0.6850 - val_loss: 0.6618 - val_accuracy: 0.6454\n",
            "Epoch 8/10\n",
            "49/49 [==============================] - 2s 49ms/step - loss: 0.6474 - accuracy: 0.6850 - val_loss: 0.6587 - val_accuracy: 0.6454\n",
            "Epoch 9/10\n",
            "49/49 [==============================] - 2s 49ms/step - loss: 0.6438 - accuracy: 0.6850 - val_loss: 0.6553 - val_accuracy: 0.6454\n",
            "Epoch 10/10\n",
            "49/49 [==============================] - 2s 48ms/step - loss: 0.6401 - accuracy: 0.6850 - val_loss: 0.6521 - val_accuracy: 0.6454\n",
            "Accuracy for differnt learning rates 0.0001 is 0.6454081535339355\n"
          ]
        }
      ]
    },
    {
      "cell_type": "markdown",
      "metadata": {
        "id": "_booW3lgb5XY"
      },
      "source": [
        "#LeNet with regularization and dropuout "
      ]
    },
    {
      "cell_type": "code",
      "metadata": {
        "id": "ANKV_Ifzb97s"
      },
      "source": [
        "tf.keras.backend.clear_session()\n",
        "\n",
        "\n",
        "class LeNetReg:\n",
        "    # create the architecture\n",
        "    def build(height, width, depth, classes, lam1 = 0, lam2 = 0, dropout = [0, 0, 0, 0.5]):\n",
        "        # create a feedforward neural net\n",
        "        model = Sequential()\n",
        "        \n",
        "        # add a convolutional layer with 20 5x5 filters and a 2x2 max pooling layer\n",
        "        model.add(Conv2D(32, (5, 5), padding = 'same', input_shape = (height, width, depth),\n",
        "                         kernel_regularizer = l1_l2(l1 = lam1, l2 = lam2)))\n",
        "        model.add(Activation('relu'))\n",
        "        model.add(MaxPooling2D(pool_size = (2, 2), strides = (2, 2)))\n",
        "        model.add(Dropout(dropout[0]))\n",
        "        \n",
        "        # add another convolutional layer with 50 5x5 filters and a 2x2 max pooling layer\n",
        "        model.add(Conv2D(64, (5, 5), padding= 'same', kernel_regularizer = l1_l2(l1 = lam1, l2 = lam2)))\n",
        "        model.add(Activation('relu'))\n",
        "        model.add(MaxPooling2D(pool_size = (2, 2), strides = (2, 2)))\n",
        "        model.add(Dropout(dropout[1]))\n",
        "        \n",
        "        # add another convolutional layer\n",
        "        model.add(Conv2D(128, (5, 5), padding = 'same', kernel_regularizer = l1_l2(l1 = lam1, l2 = lam2)))\n",
        "        model.add(Activation('relu'))\n",
        "        model.add(Dropout(dropout[2]))\n",
        "        \n",
        "        # add a fully-connected layer\n",
        "        model.add(Flatten())\n",
        "        model.add(Dense(500))\n",
        "        model.add(Activation('relu'))\n",
        "        \n",
        "        model.add(Dropout(dropout[3]))\n",
        "        \n",
        "        # add a softmax classifier\n",
        "        model.add(Dense(classes))\n",
        "        model.add(Activation('softmax'))\n",
        "        \n",
        "        # return the constructed model\n",
        "        return model"
      ],
      "execution_count": 8,
      "outputs": []
    },
    {
      "cell_type": "code",
      "metadata": {
        "id": "rhHaW3MXxegs"
      },
      "source": [
        "trainX = trainX.astype('float32')/255.0\n",
        "testX = testX.astype('float32')/255.0\n",
        "\n",
        "trainX = np.expand_dims(trainX, -1)\n",
        "testX = np.expand_dims(testX, -1)\n",
        "\n",
        "trainY = to_categorical(trainY, 2)\n",
        "testY = to_categorical(testY, 2)\n"
      ],
      "execution_count": 18,
      "outputs": []
    },
    {
      "cell_type": "code",
      "metadata": {
        "colab": {
          "base_uri": "https://localhost:8080/",
          "height": 693
        },
        "id": "cbY1w4qdb_1R",
        "outputId": "120674de-db73-4e0f-fb21-67f7f33b84f6"
      },
      "source": [
        "tf.keras.backend.clear_session()\n",
        "\n",
        "#((trainX, trainY), (testX, testY)) = mnist.load_data()\n",
        "\n",
        "model = LeNetReg.build(224, 224, 3, 2)\n",
        "model.compile(loss = 'categorical_crossentropy', optimizer = 'adam', metrics = ['accuracy'])\n",
        "\n",
        "print(\"[INFO] training network...\")\n",
        "maxIt = 10\n",
        "H = model.fit(trainX, trainY, validation_split = 0.20, batch_size = 128, epochs = maxIt, verbose = 1)\n",
        "\n",
        "# print('\\n Test accuracy')\n",
        "# predictedY = model.predict(testX)\n",
        "# predictedY = predictedY.argmax(axis=1)\n",
        "# testY = testY.argmax(axis=1)\n",
        "# print(classification_report(testY, predictedY))\n",
        "\n",
        "# print(model.summary())\n",
        "\n",
        "# plot the training loss and accuracy\n",
        "plt.style.use(\"ggplot\")\n",
        "plt.figure()\n",
        "# plt.plot(np.arange(0, maxIt), H.history[\"loss\"], label=\"train_loss\")\n",
        "# plt.plot(np.arange(0, maxIt), H.history[\"val_loss\"], label=\"val_loss\")\n",
        "plt.plot(np.arange(0, maxIt), H.history[\"accuracy\"], label=\"train_acc\")\n",
        "plt.plot(np.arange(0, maxIt), H.history[\"val_accuracy\"], label=\"val_acc\")\n",
        "plt.title(\"Training Loss and Accuracy\")\n",
        "plt.xlabel(\"Epoch #\")\n",
        "plt.ylabel(\"Loss/Accuracy\")\n",
        "plt.legend()"
      ],
      "execution_count": null,
      "outputs": [
        {
          "name": "stdout",
          "output_type": "stream",
          "text": [
            "[INFO] training network...\n",
            "Epoch 1/10\n",
            "13/13 [==============================] - 22s 271ms/step - loss: 4.9888 - accuracy: 0.5949 - val_loss: 0.6062 - val_accuracy: 0.6173\n",
            "Epoch 2/10\n",
            "13/13 [==============================] - 2s 177ms/step - loss: 0.5326 - accuracy: 0.7450 - val_loss: 0.3945 - val_accuracy: 0.8010\n",
            "Epoch 3/10\n",
            "13/13 [==============================] - 2s 181ms/step - loss: 0.4053 - accuracy: 0.8000 - val_loss: 0.3104 - val_accuracy: 0.8699\n",
            "Epoch 4/10\n",
            "13/13 [==============================] - 2s 183ms/step - loss: 0.2874 - accuracy: 0.8882 - val_loss: 0.2565 - val_accuracy: 0.8801\n",
            "Epoch 5/10\n",
            "13/13 [==============================] - 2s 180ms/step - loss: 0.2080 - accuracy: 0.9182 - val_loss: 0.2471 - val_accuracy: 0.8903\n",
            "Epoch 6/10\n",
            "13/13 [==============================] - 2s 185ms/step - loss: 0.1658 - accuracy: 0.9380 - val_loss: 0.1634 - val_accuracy: 0.9362\n",
            "Epoch 7/10\n",
            "13/13 [==============================] - 2s 178ms/step - loss: 0.1072 - accuracy: 0.9591 - val_loss: 0.1789 - val_accuracy: 0.9158\n",
            "Epoch 8/10\n",
            "13/13 [==============================] - 2s 179ms/step - loss: 0.1099 - accuracy: 0.9610 - val_loss: 0.1911 - val_accuracy: 0.9388\n",
            "Epoch 9/10\n",
            "13/13 [==============================] - 2s 178ms/step - loss: 0.0928 - accuracy: 0.9661 - val_loss: 0.1462 - val_accuracy: 0.9490\n",
            "Epoch 10/10\n",
            "13/13 [==============================] - 2s 184ms/step - loss: 0.0605 - accuracy: 0.9776 - val_loss: 0.1254 - val_accuracy: 0.9541\n"
          ]
        },
        {
          "data": {
            "text/plain": [
              "<matplotlib.legend.Legend at 0x7fb5f0426410>"
            ]
          },
          "execution_count": 8,
          "metadata": {},
          "output_type": "execute_result"
        },
        {
          "data": {
            "image/png": "[encoded data removed]",
            "text/plain": [
              "<Figure size 432x288 with 1 Axes>"
            ]
          },
          "metadata": {},
          "output_type": "display_data"
        }
      ]
    },
    {
      "cell_type": "markdown",
      "metadata": {
        "id": "zydnnBv9i-rd"
      },
      "source": [
        "## Tuning regualarization"
      ]
    },
    {
      "cell_type": "code",
      "metadata": {
        "id": "9If2qeTWxY4l"
      },
      "source": [
        "trainX = trainX.astype('float32')/255.0\n",
        "testX = testX.astype('float32')/255.0\n",
        "\n",
        "trainY = to_categorical(trainY, 2)\n",
        "testY = to_categorical(testY, 2)"
      ],
      "execution_count": null,
      "outputs": []
    },
    {
      "cell_type": "code",
      "metadata": {
        "colab": {
          "base_uri": "https://localhost:8080/"
        },
        "id": "sgZdvLr1jBxP",
        "outputId": "ce259ce3-4fb9-44ee-d9f7-7642d201ef9a"
      },
      "source": [
        "tf.keras.backend.clear_session()\n",
        "\n",
        "from sklearn.metrics import accuracy_score\n",
        "\n",
        "best_hyperparameters = [0, 0]\n",
        "best_accuracy = 0\n",
        "l1=0\n",
        "for l2 in [0, 0.001, 0.01, 0.1]:\n",
        "          \n",
        "  model = LeNetReg.build(224, 224, 3, 2, l1/trainX.shape[0], l2/trainX.shape[0])\n",
        "  model.compile(loss = 'categorical_crossentropy', optimizer = 'adam', metrics = ['accuracy'])\n",
        "\n",
        "  maxIt = 10\n",
        "  H = model.fit(trainX, trainY, validation_split = 0.20, batch_size = 64, epochs = maxIt, verbose = 0)\n",
        "  dev_accuracy = H.history['val_accuracy'][-1]\n",
        "  print('Dev accuracy for l1 =', l1, ', l2 =', l2, 'is', dev_accuracy)\n",
        "          \n",
        "  if dev_accuracy > best_accuracy: best_hyperparameters = [l1, l2]\n",
        "\n"
      ],
      "execution_count": null,
      "outputs": [
        {
          "name": "stdout",
          "output_type": "stream",
          "text": [
            "Dev accuracy for l1 = 0 , l2 = 0 is 0.954081654548645\n",
            "Dev accuracy for l1 = 0 , l2 = 0.001 is 0.9515306353569031\n",
            "Dev accuracy for l1 = 0 , l2 = 0.01 is 0.954081654548645\n",
            "Dev accuracy for l1 = 0 , l2 = 0.1 is 0.9464285969734192\n"
          ]
        }
      ]
    },
    {
      "cell_type": "code",
      "metadata": {
        "colab": {
          "base_uri": "https://localhost:8080/"
        },
        "id": "7uU66eoZmbcq",
        "outputId": "7acee8a0-4837-4ef3-88dc-1cfd8afe086d"
      },
      "source": [
        "tf.keras.backend.clear_session()\n",
        "\n",
        "from sklearn.metrics import accuracy_score\n",
        "\n",
        "#((trainX, trainY), (testX, testY)) = cifar10.load_data()\n",
        "\n",
        "trainX = trainX.astype('float32')/255.0\n",
        "testX = testX.astype('float32')/255.0\n",
        "\n",
        "trainY = to_categorical(trainY, 2)\n",
        "testY = to_categorical(testY, 2)\n",
        "\n",
        "best_hyperparameters = [0, 0]\n",
        "best_accuracy = 0\n",
        "l1=0.001\n",
        "for l2 in [0, 0.001, 0.01, 0.1]:\n",
        "        \n",
        "  model = LeNetReg.build(224, 224, 3, 2, l1/trainX.shape[0], l2/trainX.shape[0])\n",
        "  model.compile(loss = 'categorical_crossentropy', optimizer = 'adam', metrics = ['accuracy'])\n",
        "\n",
        "  maxIt = 10\n",
        "  H = model.fit(trainX, trainY, validation_split = 0.20, batch_size = 64, epochs = maxIt, verbose = 0)\n",
        "  dev_accuracy = H.history['val_accuracy'][-1]\n",
        "  print('Dev accuracy for l1 =', l1, ', l2 =', l2, 'is', dev_accuracy)\n",
        "          \n",
        "  if dev_accuracy > best_accuracy: best_hyperparameters = [l1, l2]"
      ],
      "execution_count": null,
      "outputs": [
        {
          "name": "stdout",
          "output_type": "stream",
          "text": [
            "Dev accuracy for l1 = 0.001 , l2 = 0 is 0.9285714030265808\n",
            "Dev accuracy for l1 = 0.001 , l2 = 0.001 is 0.954081654548645\n",
            "Dev accuracy for l1 = 0.001 , l2 = 0.01 is 0.9413265585899353\n",
            "Dev accuracy for l1 = 0.001 , l2 = 0.1 is 0.9515306353569031\n"
          ]
        }
      ]
    },
    {
      "cell_type": "code",
      "metadata": {
        "id": "tuPyvzZmxTB-"
      },
      "source": [
        "trainX = trainX.astype('float32')/255.0\n",
        "testX = testX.astype('float32')/255.0\n",
        "\n",
        "trainY = to_categorical(trainY, 2)\n",
        "testY = to_categorical(testY, 2)\n"
      ],
      "execution_count": null,
      "outputs": []
    },
    {
      "cell_type": "code",
      "metadata": {
        "colab": {
          "base_uri": "https://localhost:8080/"
        },
        "id": "zkrKciC-meiA",
        "outputId": "7b22e019-a00a-4666-a758-3159fcbd0d73"
      },
      "source": [
        "tf.keras.backend.clear_session()\n",
        "\n",
        "from sklearn.metrics import accuracy_score\n",
        "best_hyperparameters = [0, 0]\n",
        "best_accuracy = 0\n",
        "\n",
        "l1=0.01\n",
        "for l2 in [0, 0.001, 0.01, 0.1]:\n",
        "        \n",
        "  model = LeNetReg.build(224, 224, 3, 2, l1/trainX.shape[0], l2/trainX.shape[0])\n",
        "  model.compile(loss = 'categorical_crossentropy', optimizer = 'adam', metrics = ['accuracy'])\n",
        "\n",
        "  maxIt = 10\n",
        "  H = model.fit(trainX, trainY, validation_split = 0.20, batch_size = 64, epochs = maxIt, verbose = 0)\n",
        "  dev_accuracy = H.history['val_accuracy'][-1]\n",
        "  print('Dev accuracy for l1 =', l1, ', l2 =', l2, 'is', dev_accuracy)\n",
        "          \n",
        "  if dev_accuracy > best_accuracy: best_hyperparameters = [l1, l2]"
      ],
      "execution_count": null,
      "outputs": [
        {
          "name": "stdout",
          "output_type": "stream",
          "text": [
            "Dev accuracy for l1 = 0.01 , l2 = 0 is 0.9413265585899353\n",
            "Dev accuracy for l1 = 0.01 , l2 = 0.001 is 0.9107142686843872\n",
            "Dev accuracy for l1 = 0.01 , l2 = 0.01 is 0.9464285969734192\n",
            "Dev accuracy for l1 = 0.01 , l2 = 0.1 is 0.9642857313156128\n"
          ]
        }
      ]
    },
    {
      "cell_type": "code",
      "metadata": {
        "id": "KAgJ2E7BxPLZ"
      },
      "source": [
        "trainX = trainX.astype('float32')/255.0\n",
        "testX = testX.astype('float32')/255.0\n",
        "\n",
        "trainY = to_categorical(trainY, 2)\n",
        "testY = to_categorical(testY, 2)"
      ],
      "execution_count": null,
      "outputs": []
    },
    {
      "cell_type": "code",
      "metadata": {
        "colab": {
          "base_uri": "https://localhost:8080/"
        },
        "id": "bUpOctCqmf_x",
        "outputId": "f814f5ff-f03b-4956-95a2-d51706d0819c"
      },
      "source": [
        "tf.keras.backend.clear_session()\n",
        "\n",
        "from sklearn.metrics import accuracy_score\n",
        "\n",
        "best_hyperparameters = [0, 0]\n",
        "best_accuracy = 0\n",
        "l1=0.1\n",
        "for l2 in [0, 0.001, 0.01, 0.1]:\n",
        "        \n",
        "  model = LeNetReg.build(224, 224, 3, 2, l1/trainX.shape[0], l2/trainX.shape[0])\n",
        "  model.compile(loss = 'categorical_crossentropy', optimizer = 'adam', metrics = ['accuracy'])\n",
        "\n",
        "  maxIt = 10\n",
        "  H = model.fit(trainX, trainY, validation_split = 0.20, batch_size = 64, epochs = maxIt, verbose = 0)\n",
        "  dev_accuracy = H.history['val_accuracy'][-1]\n",
        "  print('Dev accuracy for l1 =', l1, ', l2 =', l2, 'is', dev_accuracy)\n",
        "          \n",
        "  if dev_accuracy > best_accuracy: best_hyperparameters = [l1, l2]"
      ],
      "execution_count": null,
      "outputs": [
        {
          "name": "stdout",
          "output_type": "stream",
          "text": [
            "Dev accuracy for l1 = 0.1 , l2 = 0 is 0.9515306353569031\n",
            "Dev accuracy for l1 = 0.1 , l2 = 0.001 is 0.9362244606018066\n",
            "Dev accuracy for l1 = 0.1 , l2 = 0.01 is 0.954081654548645\n",
            "Dev accuracy for l1 = 0.1 , l2 = 0.1 is 0.9668367505073547\n"
          ]
        }
      ]
    },
    {
      "cell_type": "markdown",
      "metadata": {
        "id": "7GIPBNA5t_sI"
      },
      "source": [
        "# Dropout Tuning "
      ]
    },
    {
      "cell_type": "code",
      "metadata": {
        "id": "7wxv08vWxCcR"
      },
      "source": [
        "trainX = trainX.astype('float32')/255.0\n",
        "testX = testX.astype('float32')/255.0\n",
        "\n",
        "trainY = to_categorical(trainY, 2)\n",
        "testY = to_categorical(testY, 2)"
      ],
      "execution_count": null,
      "outputs": []
    },
    {
      "cell_type": "code",
      "metadata": {
        "colab": {
          "base_uri": "https://localhost:8080/"
        },
        "id": "-kySuUELMGkN",
        "outputId": "6b14ef21-5f9e-4586-cfcc-d0a275802047"
      },
      "source": [
        "tf.keras.backend.clear_session()\n",
        "\n",
        "from sklearn.metrics import accuracy_score\n",
        "\n",
        "for dropout in [[0.3,0.3,0.5,0.8],[0.5,0.6,0.7,0.8],[0.1, 0.1, 0.1, 0.5],[0.8, 0.8, 0.8, 0.8]]:\n",
        "        \n",
        "    model = LeNetReg.build(224, 224, 3, 2, 0.1/trainX.shape[0], 0.1/trainX.shape[0],dropout = dropout)\n",
        "    model.compile(loss = 'categorical_crossentropy', optimizer = 'adam', metrics = ['accuracy'])\n",
        "\n",
        "    maxIt = 10\n",
        "    H = model.fit(trainX, trainY, validation_split = 0.20, batch_size =32, epochs = maxIt)\n",
        "    print('Dev accuracy for dropout percentages', dropout, 'is', H.history['val_accuracy'][-1])"
      ],
      "execution_count": null,
      "outputs": [
        {
          "name": "stdout",
          "output_type": "stream",
          "text": [
            "Epoch 1/10\n",
            "49/49 [==============================] - 21s 87ms/step - loss: 1.1202 - accuracy: 0.6613 - val_loss: 0.6328 - val_accuracy: 0.6709\n",
            "Epoch 2/10\n",
            "49/49 [==============================] - 3s 67ms/step - loss: 0.6424 - accuracy: 0.6773 - val_loss: 0.5749 - val_accuracy: 0.6709\n",
            "Epoch 3/10\n",
            "49/49 [==============================] - 3s 68ms/step - loss: 0.6437 - accuracy: 0.6773 - val_loss: 0.6352 - val_accuracy: 0.6709\n",
            "Epoch 4/10\n",
            "49/49 [==============================] - 3s 67ms/step - loss: 0.6140 - accuracy: 0.6773 - val_loss: 0.5582 - val_accuracy: 0.7500\n",
            "Epoch 5/10\n",
            "49/49 [==============================] - 3s 68ms/step - loss: 0.6095 - accuracy: 0.6895 - val_loss: 0.6335 - val_accuracy: 0.6709\n",
            "Epoch 6/10\n",
            "49/49 [==============================] - 3s 68ms/step - loss: 0.6299 - accuracy: 0.6773 - val_loss: 0.6335 - val_accuracy: 0.6709\n",
            "Epoch 7/10\n",
            "49/49 [==============================] - 3s 68ms/step - loss: 0.6257 - accuracy: 0.6773 - val_loss: 0.6224 - val_accuracy: 0.6709\n",
            "Epoch 8/10\n",
            "49/49 [==============================] - 3s 67ms/step - loss: 0.6023 - accuracy: 0.6863 - val_loss: 0.5307 - val_accuracy: 0.7296\n",
            "Epoch 9/10\n",
            "49/49 [==============================] - 3s 68ms/step - loss: 0.4950 - accuracy: 0.7367 - val_loss: 0.4935 - val_accuracy: 0.7423\n",
            "Epoch 10/10\n",
            "49/49 [==============================] - 3s 68ms/step - loss: 0.4419 - accuracy: 0.7853 - val_loss: 0.3898 - val_accuracy: 0.8393\n",
            "Dev accuracy for dropout percentages [0.3, 0.3, 0.5, 0.8] is 0.8392857313156128\n",
            "Epoch 1/10\n",
            "49/49 [==============================] - 4s 74ms/step - loss: 1.7761 - accuracy: 0.6575 - val_loss: 0.5788 - val_accuracy: 0.6709\n",
            "Epoch 2/10\n",
            "49/49 [==============================] - 3s 68ms/step - loss: 0.6236 - accuracy: 0.6773 - val_loss: 0.5856 - val_accuracy: 0.6709\n",
            "Epoch 3/10\n",
            "49/49 [==============================] - 3s 68ms/step - loss: 0.6168 - accuracy: 0.6773 - val_loss: 0.6411 - val_accuracy: 0.6709\n",
            "Epoch 4/10\n",
            "49/49 [==============================] - 3s 67ms/step - loss: 0.6119 - accuracy: 0.6773 - val_loss: 0.5999 - val_accuracy: 0.6709\n",
            "Epoch 5/10\n",
            "49/49 [==============================] - 3s 67ms/step - loss: 0.5652 - accuracy: 0.6773 - val_loss: 0.5663 - val_accuracy: 0.6709\n",
            "Epoch 6/10\n",
            "49/49 [==============================] - 3s 68ms/step - loss: 0.5436 - accuracy: 0.6939 - val_loss: 0.5482 - val_accuracy: 0.7219\n",
            "Epoch 7/10\n",
            "49/49 [==============================] - 3s 69ms/step - loss: 0.5004 - accuracy: 0.7265 - val_loss: 0.4908 - val_accuracy: 0.7398\n",
            "Epoch 8/10\n",
            "49/49 [==============================] - 3s 68ms/step - loss: 0.4507 - accuracy: 0.7668 - val_loss: 0.4810 - val_accuracy: 0.7270\n",
            "Epoch 9/10\n",
            "49/49 [==============================] - 3s 68ms/step - loss: 0.3988 - accuracy: 0.8102 - val_loss: 0.4449 - val_accuracy: 0.7704\n",
            "Epoch 10/10\n",
            "49/49 [==============================] - 3s 68ms/step - loss: 0.3778 - accuracy: 0.8147 - val_loss: 0.3998 - val_accuracy: 0.8061\n",
            "Dev accuracy for dropout percentages [0.5, 0.6, 0.7, 0.8] is 0.8061224222183228\n",
            "Epoch 1/10\n",
            "49/49 [==============================] - 4s 75ms/step - loss: 1.2280 - accuracy: 0.7093 - val_loss: 0.4105 - val_accuracy: 0.8163\n",
            "Epoch 2/10\n",
            "49/49 [==============================] - 3s 69ms/step - loss: 0.3351 - accuracy: 0.8498 - val_loss: 0.2792 - val_accuracy: 0.8878\n",
            "Epoch 3/10\n",
            "49/49 [==============================] - 3s 67ms/step - loss: 0.3125 - accuracy: 0.8671 - val_loss: 0.2562 - val_accuracy: 0.9031\n",
            "Epoch 4/10\n",
            "49/49 [==============================] - 3s 69ms/step - loss: 0.2376 - accuracy: 0.9061 - val_loss: 0.2251 - val_accuracy: 0.9082\n",
            "Epoch 5/10\n",
            "49/49 [==============================] - 3s 68ms/step - loss: 0.1920 - accuracy: 0.9342 - val_loss: 0.1711 - val_accuracy: 0.9311\n",
            "Epoch 6/10\n",
            "49/49 [==============================] - 3s 68ms/step - loss: 0.1261 - accuracy: 0.9527 - val_loss: 0.1970 - val_accuracy: 0.9388\n",
            "Epoch 7/10\n",
            "49/49 [==============================] - 3s 68ms/step - loss: 0.1253 - accuracy: 0.9495 - val_loss: 0.1305 - val_accuracy: 0.9439\n",
            "Epoch 8/10\n",
            "49/49 [==============================] - 3s 68ms/step - loss: 0.0746 - accuracy: 0.9706 - val_loss: 0.1672 - val_accuracy: 0.9413\n",
            "Epoch 9/10\n",
            "49/49 [==============================] - 3s 69ms/step - loss: 0.0709 - accuracy: 0.9738 - val_loss: 0.1237 - val_accuracy: 0.9566\n",
            "Epoch 10/10\n",
            "49/49 [==============================] - 3s 68ms/step - loss: 0.0421 - accuracy: 0.9847 - val_loss: 0.1336 - val_accuracy: 0.9515\n",
            "Dev accuracy for dropout percentages [0.1, 0.1, 0.1, 0.5] is 0.9515306353569031\n",
            "Epoch 1/10\n",
            "49/49 [==============================] - 4s 75ms/step - loss: 1.7352 - accuracy: 0.6581 - val_loss: 0.9579 - val_accuracy: 0.6709\n",
            "Epoch 2/10\n",
            "49/49 [==============================] - 3s 68ms/step - loss: 0.5912 - accuracy: 0.6773 - val_loss: 0.7248 - val_accuracy: 0.6709\n",
            "Epoch 3/10\n",
            "49/49 [==============================] - 3s 68ms/step - loss: 0.5659 - accuracy: 0.6773 - val_loss: 0.7599 - val_accuracy: 0.6709\n",
            "Epoch 4/10\n",
            "49/49 [==============================] - 3s 68ms/step - loss: 0.5689 - accuracy: 0.6773 - val_loss: 0.8837 - val_accuracy: 0.6709\n",
            "Epoch 5/10\n",
            "49/49 [==============================] - 3s 68ms/step - loss: 0.5430 - accuracy: 0.6780 - val_loss: 0.8436 - val_accuracy: 0.6709\n",
            "Epoch 6/10\n",
            "49/49 [==============================] - 3s 69ms/step - loss: 0.5351 - accuracy: 0.6939 - val_loss: 0.7777 - val_accuracy: 0.6760\n",
            "Epoch 7/10\n",
            "49/49 [==============================] - 3s 68ms/step - loss: 0.5095 - accuracy: 0.7195 - val_loss: 0.6542 - val_accuracy: 0.6760\n",
            "Epoch 8/10\n",
            "49/49 [==============================] - 3s 70ms/step - loss: 0.4793 - accuracy: 0.7597 - val_loss: 0.5615 - val_accuracy: 0.6760\n",
            "Epoch 9/10\n",
            "49/49 [==============================] - 3s 68ms/step - loss: 0.4549 - accuracy: 0.7623 - val_loss: 0.5849 - val_accuracy: 0.6786\n",
            "Epoch 10/10\n",
            "49/49 [==============================] - 3s 68ms/step - loss: 0.4770 - accuracy: 0.7540 - val_loss: 0.5848 - val_accuracy: 0.7372\n",
            "Dev accuracy for dropout percentages [0.8, 0.8, 0.8, 0.8] is 0.7372449040412903\n"
          ]
        }
      ]
    },
    {
      "cell_type": "markdown",
      "metadata": {
        "id": "1EM5_xoRf-YJ"
      },
      "source": [
        "## Observation smaller drop out result in better accuracy <br>\n",
        "## Drop out tuning part 2"
      ]
    },
    {
      "cell_type": "code",
      "metadata": {
        "id": "6fhwj2wuw-GR"
      },
      "source": [
        "trainX = trainX.astype('float32')/255.0\n",
        "testX = testX.astype('float32')/255.0\n",
        "\n",
        "trainY = to_categorical(trainY, 2)\n",
        "testY = to_categorical(testY, 2)"
      ],
      "execution_count": null,
      "outputs": []
    },
    {
      "cell_type": "code",
      "metadata": {
        "colab": {
          "base_uri": "https://localhost:8080/"
        },
        "id": "54QEel3If7dC",
        "outputId": "347f2fe8-2b7e-4d4c-bc3c-4d31c593897c"
      },
      "source": [
        "tf.keras.backend.clear_session()\n",
        "\n",
        "from sklearn.metrics import accuracy_score\n",
        "\n",
        "for dropout in [[0.1,0.2,0.2,0.2],[0,0.01,0.01,0.05],[0.1, 0.1, 0.1, 0.1]]:\n",
        "        \n",
        "    model = LeNetReg.build(224, 224, 3, 2, 0.1/trainX.shape[0], 0.1/trainX.shape[0],dropout = dropout)\n",
        "    model.compile(loss = 'categorical_crossentropy', optimizer = 'adam', metrics = ['accuracy'])\n",
        "\n",
        "    maxIt = 10\n",
        "    H = model.fit(trainX, trainY, validation_split = 0.20, batch_size =32, epochs = maxIt)\n",
        "    print('Dev accuracy for dropout percentages', dropout, 'is', H.history['val_accuracy'][-1])"
      ],
      "execution_count": null,
      "outputs": [
        {
          "name": "stdout",
          "output_type": "stream",
          "text": [
            "Epoch 1/10\n",
            "49/49 [==============================] - 20s 86ms/step - loss: 1.8268 - accuracy: 0.6281 - val_loss: 0.5457 - val_accuracy: 0.6480\n",
            "Epoch 2/10\n",
            "49/49 [==============================] - 3s 68ms/step - loss: 0.4890 - accuracy: 0.7355 - val_loss: 0.4079 - val_accuracy: 0.7934\n",
            "Epoch 3/10\n",
            "49/49 [==============================] - 3s 67ms/step - loss: 0.3583 - accuracy: 0.8371 - val_loss: 0.3052 - val_accuracy: 0.8495\n",
            "Epoch 4/10\n",
            "49/49 [==============================] - 3s 67ms/step - loss: 0.3246 - accuracy: 0.8581 - val_loss: 0.2510 - val_accuracy: 0.8954\n",
            "Epoch 5/10\n",
            "49/49 [==============================] - 3s 68ms/step - loss: 0.2181 - accuracy: 0.9073 - val_loss: 0.1961 - val_accuracy: 0.9158\n",
            "Epoch 6/10\n",
            "49/49 [==============================] - 3s 69ms/step - loss: 0.1606 - accuracy: 0.9367 - val_loss: 0.1646 - val_accuracy: 0.9362\n",
            "Epoch 7/10\n",
            "49/49 [==============================] - 3s 68ms/step - loss: 0.1313 - accuracy: 0.9482 - val_loss: 0.1919 - val_accuracy: 0.9362\n",
            "Epoch 8/10\n",
            "49/49 [==============================] - 3s 67ms/step - loss: 0.1002 - accuracy: 0.9636 - val_loss: 0.1697 - val_accuracy: 0.9490\n",
            "Epoch 9/10\n",
            "49/49 [==============================] - 3s 68ms/step - loss: 0.0944 - accuracy: 0.9661 - val_loss: 0.1759 - val_accuracy: 0.9413\n",
            "Epoch 10/10\n",
            "49/49 [==============================] - 3s 68ms/step - loss: 0.0840 - accuracy: 0.9706 - val_loss: 0.1623 - val_accuracy: 0.9592\n",
            "Dev accuracy for dropout percentages [0.1, 0.2, 0.2, 0.2] is 0.9591836929321289\n",
            "Epoch 1/10\n",
            "49/49 [==============================] - 4s 73ms/step - loss: 1.1341 - accuracy: 0.6652 - val_loss: 0.3795 - val_accuracy: 0.8291\n",
            "Epoch 2/10\n",
            "49/49 [==============================] - 3s 66ms/step - loss: 0.3842 - accuracy: 0.8339 - val_loss: 2.6284 - val_accuracy: 0.6888\n",
            "Epoch 3/10\n",
            "49/49 [==============================] - 3s 66ms/step - loss: 0.4550 - accuracy: 0.8096 - val_loss: 0.3544 - val_accuracy: 0.8291\n",
            "Epoch 4/10\n",
            "49/49 [==============================] - 3s 67ms/step - loss: 0.3047 - accuracy: 0.8665 - val_loss: 0.2222 - val_accuracy: 0.9107\n",
            "Epoch 5/10\n",
            "49/49 [==============================] - 3s 67ms/step - loss: 0.3370 - accuracy: 0.8613 - val_loss: 0.3236 - val_accuracy: 0.8827\n",
            "Epoch 6/10\n",
            "49/49 [==============================] - 3s 66ms/step - loss: 0.2142 - accuracy: 0.9042 - val_loss: 0.2287 - val_accuracy: 0.9158\n",
            "Epoch 7/10\n",
            "49/49 [==============================] - 3s 65ms/step - loss: 0.1621 - accuracy: 0.9399 - val_loss: 0.1950 - val_accuracy: 0.9235\n",
            "Epoch 8/10\n",
            "49/49 [==============================] - 3s 65ms/step - loss: 0.1169 - accuracy: 0.9527 - val_loss: 0.1702 - val_accuracy: 0.9362\n",
            "Epoch 9/10\n",
            "49/49 [==============================] - 3s 66ms/step - loss: 0.1080 - accuracy: 0.9553 - val_loss: 0.1691 - val_accuracy: 0.9362\n",
            "Epoch 10/10\n",
            "49/49 [==============================] - 3s 66ms/step - loss: 0.0816 - accuracy: 0.9732 - val_loss: 0.2290 - val_accuracy: 0.9362\n",
            "Dev accuracy for dropout percentages [0, 0.01, 0.01, 0.05] is 0.9362244606018066\n",
            "Epoch 1/10\n",
            "49/49 [==============================] - 4s 74ms/step - loss: 1.1334 - accuracy: 0.6780 - val_loss: 0.4899 - val_accuracy: 0.7398\n",
            "Epoch 2/10\n",
            "49/49 [==============================] - 3s 68ms/step - loss: 0.4296 - accuracy: 0.8102 - val_loss: 0.3018 - val_accuracy: 0.8724\n",
            "Epoch 3/10\n",
            "49/49 [==============================] - 3s 67ms/step - loss: 0.3408 - accuracy: 0.8639 - val_loss: 0.3243 - val_accuracy: 0.8878\n",
            "Epoch 4/10\n",
            "49/49 [==============================] - 3s 69ms/step - loss: 0.2643 - accuracy: 0.8875 - val_loss: 0.2014 - val_accuracy: 0.9158\n",
            "Epoch 5/10\n",
            "49/49 [==============================] - 3s 68ms/step - loss: 0.1829 - accuracy: 0.9272 - val_loss: 0.1847 - val_accuracy: 0.9235\n",
            "Epoch 6/10\n",
            "49/49 [==============================] - 3s 68ms/step - loss: 0.1542 - accuracy: 0.9335 - val_loss: 0.2069 - val_accuracy: 0.8980\n",
            "Epoch 7/10\n",
            "49/49 [==============================] - 3s 67ms/step - loss: 0.1227 - accuracy: 0.9527 - val_loss: 0.1638 - val_accuracy: 0.9362\n",
            "Epoch 8/10\n",
            "49/49 [==============================] - 3s 68ms/step - loss: 0.0789 - accuracy: 0.9693 - val_loss: 0.1106 - val_accuracy: 0.9617\n",
            "Epoch 9/10\n",
            "49/49 [==============================] - 3s 68ms/step - loss: 0.1684 - accuracy: 0.9482 - val_loss: 0.1525 - val_accuracy: 0.9439\n",
            "Epoch 10/10\n",
            "49/49 [==============================] - 3s 67ms/step - loss: 0.0757 - accuracy: 0.9693 - val_loss: 0.1557 - val_accuracy: 0.9541\n",
            "Dev accuracy for dropout percentages [0.1, 0.1, 0.1, 0.1] is 0.954081654548645\n"
          ]
        }
      ]
    },
    {
      "cell_type": "markdown",
      "metadata": {
        "id": "i6jyOB6s96a7"
      },
      "source": [
        "# Test with best dropout and regularization values"
      ]
    },
    {
      "cell_type": "code",
      "metadata": {
        "colab": {
          "base_uri": "https://localhost:8080/",
          "height": 1000
        },
        "id": "thJRHEQZ-BWh",
        "outputId": "64f684a4-cb96-4c1b-fb1b-08d41340fdc8"
      },
      "source": [
        "tf.keras.backend.clear_session()\n",
        "\n",
        "\n",
        "model = LeNetReg.build(224, 224, 3, 2,0.1/trainX.shape[0], 0.1/trainX.shape[0],[0.1,0.2,0.2,0.2])\n",
        "model.compile(loss = 'categorical_crossentropy', optimizer = 'adam', metrics = ['accuracy'])\n",
        "\n",
        "print(\"[INFO] training network...\")\n",
        "maxIt = 10\n",
        "H = model.fit(trainX, trainY, validation_split = 0.20, batch_size = 128, epochs = maxIt, verbose = 1)\n",
        "\n",
        "print(model.summary())\n",
        "\n",
        "# plot the training loss and accuracy\n",
        "plt.style.use(\"ggplot\")\n",
        "plt.figure()\n",
        "# plt.plot(np.arange(0, maxIt), H.history[\"loss\"], label=\"train_loss\")\n",
        "# plt.plot(np.arange(0, maxIt), H.history[\"val_loss\"], label=\"val_loss\")\n",
        "plt.plot(np.arange(0, maxIt), H.history[\"accuracy\"], label=\"train_acc\")\n",
        "plt.plot(np.arange(0, maxIt), H.history[\"val_accuracy\"], label=\"val_acc\")\n",
        "plt.title(\"Training Loss and Accuracy\")\n",
        "plt.xlabel(\"Epoch #\")\n",
        "plt.ylabel(\"Loss/Accuracy\")\n",
        "plt.legend()"
      ],
      "execution_count": 10,
      "outputs": [
        {
          "output_type": "stream",
          "name": "stdout",
          "text": [
            "[INFO] training network...\n",
            "Epoch 1/10\n",
            "13/13 [==============================] - 7s 262ms/step - loss: 5.6269 - accuracy: 0.6498 - val_loss: 0.8619 - val_accuracy: 0.6913\n",
            "Epoch 2/10\n",
            "13/13 [==============================] - 2s 181ms/step - loss: 0.8376 - accuracy: 0.6958 - val_loss: 0.7586 - val_accuracy: 0.7474\n",
            "Epoch 3/10\n",
            "13/13 [==============================] - 2s 180ms/step - loss: 0.7624 - accuracy: 0.7195 - val_loss: 0.6913 - val_accuracy: 0.7679\n",
            "Epoch 4/10\n",
            "13/13 [==============================] - 2s 181ms/step - loss: 0.6920 - accuracy: 0.7470 - val_loss: 0.6780 - val_accuracy: 0.7806\n",
            "Epoch 5/10\n",
            "13/13 [==============================] - 2s 182ms/step - loss: 0.6379 - accuracy: 0.7904 - val_loss: 0.6223 - val_accuracy: 0.8138\n",
            "Epoch 6/10\n",
            "13/13 [==============================] - 2s 180ms/step - loss: 0.5812 - accuracy: 0.8064 - val_loss: 0.5632 - val_accuracy: 0.8240\n",
            "Epoch 7/10\n",
            "13/13 [==============================] - 2s 181ms/step - loss: 0.5147 - accuracy: 0.8562 - val_loss: 0.5134 - val_accuracy: 0.8520\n",
            "Epoch 8/10\n",
            "13/13 [==============================] - 2s 182ms/step - loss: 0.4796 - accuracy: 0.8792 - val_loss: 0.5027 - val_accuracy: 0.8469\n",
            "Epoch 9/10\n",
            "13/13 [==============================] - 2s 181ms/step - loss: 0.4312 - accuracy: 0.8927 - val_loss: 0.4086 - val_accuracy: 0.9005\n",
            "Epoch 10/10\n",
            "13/13 [==============================] - 2s 180ms/step - loss: 0.4183 - accuracy: 0.8965 - val_loss: 0.4380 - val_accuracy: 0.8750\n",
            "Model: \"sequential\"\n",
            "_________________________________________________________________\n",
            " Layer (type)                Output Shape              Param #   \n",
            "=================================================================\n",
            " conv2d (Conv2D)             (None, 224, 224, 32)      2432      \n",
            "                                                                 \n",
            " activation (Activation)     (None, 224, 224, 32)      0         \n",
            "                                                                 \n",
            " max_pooling2d (MaxPooling2D  (None, 112, 112, 32)     0         \n",
            " )                                                               \n",
            "                                                                 \n",
            " dropout (Dropout)           (None, 112, 112, 32)      0         \n",
            "                                                                 \n",
            " conv2d_1 (Conv2D)           (None, 112, 112, 64)      51264     \n",
            "                                                                 \n",
            " activation_1 (Activation)   (None, 112, 112, 64)      0         \n",
            "                                                                 \n",
            " max_pooling2d_1 (MaxPooling  (None, 56, 56, 64)       0         \n",
            " 2D)                                                             \n",
            "                                                                 \n",
            " dropout_1 (Dropout)         (None, 56, 56, 64)        0         \n",
            "                                                                 \n",
            " conv2d_2 (Conv2D)           (None, 56, 56, 128)       204928    \n",
            "                                                                 \n",
            " activation_2 (Activation)   (None, 56, 56, 128)       0         \n",
            "                                                                 \n",
            " dropout_2 (Dropout)         (None, 56, 56, 128)       0         \n",
            "                                                                 \n",
            " flatten (Flatten)           (None, 401408)            0         \n",
            "                                                                 \n",
            " dense (Dense)               (None, 500)               200704500 \n",
            "                                                                 \n",
            " activation_3 (Activation)   (None, 500)               0         \n",
            "                                                                 \n",
            " dropout_3 (Dropout)         (None, 500)               0         \n",
            "                                                                 \n",
            " dense_1 (Dense)             (None, 2)                 1002      \n",
            "                                                                 \n",
            " activation_4 (Activation)   (None, 2)                 0         \n",
            "                                                                 \n",
            "=================================================================\n",
            "Total params: 200,964,126\n",
            "Trainable params: 200,964,126\n",
            "Non-trainable params: 0\n",
            "_________________________________________________________________\n",
            "None\n"
          ]
        },
        {
          "output_type": "execute_result",
          "data": {
            "text/plain": [
              "<matplotlib.legend.Legend at 0x7fe026713450>"
            ]
          },
          "metadata": {},
          "execution_count": 10
        },
        {
          "output_type": "display_data",
          "data": {
            "image/png": "[encoded data removed]",
            "text/plain": [
              "<Figure size 432x288 with 1 Axes>"
            ]
          },
          "metadata": {}
        }
      ]
    },
    {
      "cell_type": "markdown",
      "metadata": {
        "id": "pD047d9a-iUx"
      },
      "source": [
        "# Changing architecture"
      ]
    },
    {
      "cell_type": "markdown",
      "metadata": {
        "id": "HoXgLaKw5MJJ"
      },
      "source": [
        "## additional fully connected layer "
      ]
    },
    {
      "cell_type": "code",
      "metadata": {
        "id": "24gmvsj5019C"
      },
      "source": [
        "tf.keras.backend.clear_session()\n",
        " \n",
        "\n",
        "class LeNetReg:\n",
        "    # create the architecture\n",
        "    def build(height, width, depth, classes, lam1 = 0, lam2 = 0, dropout = [0, 0, 0, 0.5]):\n",
        "        # create a feedforward neural net\n",
        "        model = Sequential()\n",
        "        \n",
        "        # add a convolutional layer with 20 5x5 filters and a 2x2 max pooling layer\n",
        "        model.add(Conv2D(32, (5, 5), padding = 'same', input_shape = (height, width, depth),\n",
        "                         kernel_regularizer = l1_l2(l1 = lam1, l2 = lam2)))\n",
        "        model.add(Activation('relu'))\n",
        "        model.add(MaxPooling2D(pool_size = (2, 2), strides = (2, 2)))\n",
        "        model.add(Dropout(dropout[0]))\n",
        "        \n",
        "        # add another convolutional layer with 50 5x5 filters and a 2x2 max pooling layer\n",
        "        model.add(Conv2D(64, (5, 5), padding= 'same', kernel_regularizer = l1_l2(l1 = lam1, l2 = lam2)))\n",
        "        model.add(Activation('relu'))\n",
        "        model.add(MaxPooling2D(pool_size = (2, 2), strides = (2, 2)))\n",
        "        model.add(Dropout(dropout[1]))\n",
        "        \n",
        "        # add another convolutional layer\n",
        "        model.add(Conv2D(128, (5, 5), padding = 'same', kernel_regularizer = l1_l2(l1 = lam1, l2 = lam2)))\n",
        "        model.add(Activation('relu'))\n",
        "        model.add(Dropout(dropout[2]))\n",
        "        \n",
        "        # add a fully-connected layer\n",
        "        model.add(Flatten())\n",
        "        model.add(Dense(500))\n",
        "        model.add(Activation('relu'))\n",
        "        \n",
        "\n",
        "        # add a fully-connected layer\n",
        "        model.add(Flatten())\n",
        "        model.add(Dense(500))\n",
        "        model.add(Activation('relu'))\n",
        "\n",
        "        model.add(Dropout(dropout[3]))\n",
        "        \n",
        "        # add a softmax classifier\n",
        "        model.add(Dense(classes))\n",
        "        model.add(Activation('softmax'))\n",
        "        \n",
        "        # return the constructed model\n",
        "        return model"
      ],
      "execution_count": 7,
      "outputs": []
    },
    {
      "cell_type": "code",
      "metadata": {
        "colab": {
          "base_uri": "https://localhost:8080/",
          "height": 1000
        },
        "id": "nDRUunDj4y7C",
        "outputId": "4eebbeb9-1ded-433f-c590-1cafe72aefd6"
      },
      "source": [
        "tf.keras.backend.clear_session()\n",
        "\n",
        "model = LeNetReg.build(224, 224, 3, 2,0.1/trainX.shape[0], 0.1/trainX.shape[0],[0.1,0.2,0.2,0.2])\n",
        "model.compile(loss = 'categorical_crossentropy', optimizer = 'adam', metrics = ['accuracy'])\n",
        "\n",
        "print(\"[INFO] training network...\")\n",
        "maxIt = 10\n",
        "H = model.fit(trainX, trainY, validation_split = 0.20, batch_size = 128, epochs = maxIt, verbose = 1)\n",
        "\n",
        "# print('\\n Test accuracy')\n",
        "# predictedY = model.predict(testX)\n",
        "# predictedY = predictedY.argmax(axis=1)\n",
        "# testY = testY.argmax(axis=1)\n",
        "# print(classification_report(testY, predictedY))\n",
        "\n",
        "print(model.summary())\n",
        "\n",
        "# plot the training loss and accuracy\n",
        "plt.style.use(\"ggplot\")\n",
        "plt.figure()\n",
        "# plt.plot(np.arange(0, maxIt), H.history[\"loss\"], label=\"train_loss\")\n",
        "# plt.plot(np.arange(0, maxIt), H.history[\"val_loss\"], label=\"val_loss\")\n",
        "plt.plot(np.arange(0, maxIt), H.history[\"accuracy\"], label=\"train_acc\")\n",
        "plt.plot(np.arange(0, maxIt), H.history[\"val_accuracy\"], label=\"val_acc\")\n",
        "plt.title(\"Training Loss and Accuracy\")\n",
        "plt.xlabel(\"Epoch #\")\n",
        "plt.ylabel(\"Loss/Accuracy\")\n",
        "plt.legend()"
      ],
      "execution_count": 12,
      "outputs": [
        {
          "output_type": "stream",
          "name": "stdout",
          "text": [
            "[INFO] training network...\n",
            "Epoch 1/10\n",
            "13/13 [==============================] - 3s 212ms/step - loss: 6.8396 - accuracy: 0.5668 - val_loss: 0.8740 - val_accuracy: 0.6913\n",
            "Epoch 2/10\n",
            "13/13 [==============================] - 2s 181ms/step - loss: 0.8295 - accuracy: 0.7048 - val_loss: 0.8163 - val_accuracy: 0.7347\n",
            "Epoch 3/10\n",
            "13/13 [==============================] - 2s 181ms/step - loss: 0.7148 - accuracy: 0.7693 - val_loss: 0.7053 - val_accuracy: 0.7449\n",
            "Epoch 4/10\n",
            "13/13 [==============================] - 2s 182ms/step - loss: 0.6366 - accuracy: 0.7968 - val_loss: 0.8337 - val_accuracy: 0.7653\n",
            "Epoch 5/10\n",
            "13/13 [==============================] - 2s 180ms/step - loss: 0.5809 - accuracy: 0.8390 - val_loss: 0.5291 - val_accuracy: 0.8444\n",
            "Epoch 6/10\n",
            "13/13 [==============================] - 2s 184ms/step - loss: 0.4865 - accuracy: 0.8684 - val_loss: 0.4522 - val_accuracy: 0.9005\n",
            "Epoch 7/10\n",
            "13/13 [==============================] - 2s 182ms/step - loss: 0.4212 - accuracy: 0.9163 - val_loss: 0.4356 - val_accuracy: 0.8980\n",
            "Epoch 8/10\n",
            "13/13 [==============================] - 2s 181ms/step - loss: 0.3728 - accuracy: 0.9284 - val_loss: 0.4788 - val_accuracy: 0.8724\n",
            "Epoch 9/10\n",
            "13/13 [==============================] - 2s 184ms/step - loss: 0.3916 - accuracy: 0.9080 - val_loss: 0.4587 - val_accuracy: 0.8827\n",
            "Epoch 10/10\n",
            "13/13 [==============================] - 2s 180ms/step - loss: 0.3477 - accuracy: 0.9367 - val_loss: 0.3653 - val_accuracy: 0.9184\n",
            "Model: \"sequential\"\n",
            "_________________________________________________________________\n",
            " Layer (type)                Output Shape              Param #   \n",
            "=================================================================\n",
            " conv2d (Conv2D)             (None, 224, 224, 32)      2432      \n",
            "                                                                 \n",
            " activation (Activation)     (None, 224, 224, 32)      0         \n",
            "                                                                 \n",
            " max_pooling2d (MaxPooling2D  (None, 112, 112, 32)     0         \n",
            " )                                                               \n",
            "                                                                 \n",
            " dropout (Dropout)           (None, 112, 112, 32)      0         \n",
            "                                                                 \n",
            " conv2d_1 (Conv2D)           (None, 112, 112, 64)      51264     \n",
            "                                                                 \n",
            " activation_1 (Activation)   (None, 112, 112, 64)      0         \n",
            "                                                                 \n",
            " max_pooling2d_1 (MaxPooling  (None, 56, 56, 64)       0         \n",
            " 2D)                                                             \n",
            "                                                                 \n",
            " dropout_1 (Dropout)         (None, 56, 56, 64)        0         \n",
            "                                                                 \n",
            " conv2d_2 (Conv2D)           (None, 56, 56, 128)       204928    \n",
            "                                                                 \n",
            " activation_2 (Activation)   (None, 56, 56, 128)       0         \n",
            "                                                                 \n",
            " dropout_2 (Dropout)         (None, 56, 56, 128)       0         \n",
            "                                                                 \n",
            " flatten (Flatten)           (None, 401408)            0         \n",
            "                                                                 \n",
            " dense (Dense)               (None, 500)               200704500 \n",
            "                                                                 \n",
            " activation_3 (Activation)   (None, 500)               0         \n",
            "                                                                 \n",
            " flatten_1 (Flatten)         (None, 500)               0         \n",
            "                                                                 \n",
            " dense_1 (Dense)             (None, 500)               250500    \n",
            "                                                                 \n",
            " activation_4 (Activation)   (None, 500)               0         \n",
            "                                                                 \n",
            " dropout_3 (Dropout)         (None, 500)               0         \n",
            "                                                                 \n",
            " dense_2 (Dense)             (None, 2)                 1002      \n",
            "                                                                 \n",
            " activation_5 (Activation)   (None, 2)                 0         \n",
            "                                                                 \n",
            "=================================================================\n",
            "Total params: 201,214,626\n",
            "Trainable params: 201,214,626\n",
            "Non-trainable params: 0\n",
            "_________________________________________________________________\n",
            "None\n"
          ]
        },
        {
          "output_type": "execute_result",
          "data": {
            "text/plain": [
              "<matplotlib.legend.Legend at 0x7fe00a5cc350>"
            ]
          },
          "metadata": {},
          "execution_count": 12
        },
        {
          "output_type": "display_data",
          "data": {
            "image/png": "[encoded data removed]",
            "text/plain": [
              "<Figure size 432x288 with 1 Axes>"
            ]
          },
          "metadata": {}
        }
      ]
    },
    {
      "cell_type": "markdown",
      "metadata": {
        "id": "W4GzFxYf5T4Z"
      },
      "source": [
        "## changing optimizer used"
      ]
    },
    {
      "cell_type": "code",
      "metadata": {
        "colab": {
          "base_uri": "https://localhost:8080/",
          "height": 1000
        },
        "id": "zQny8gOR5R36",
        "outputId": "460a97cf-a5b7-4b03-a5b6-8a2101a0348c"
      },
      "source": [
        "tf.keras.backend.clear_session()\n",
        "\n",
        "opt=SGD(learning_rate=0.001,decay=0.1/100,momentum=0.9,nesterov=True)\n",
        "\n",
        "model = LeNetReg.build(224, 224, 3, 2,0.1/trainX.shape[0], 0.1/trainX.shape[0],[0.1,0.2,0.2,0.2])\n",
        "model.compile(loss = 'categorical_crossentropy', optimizer = opt, metrics = ['accuracy'])\n",
        "\n",
        "print(\"[INFO] training network...\")\n",
        "maxIt = 10\n",
        "H = model.fit(trainX, trainY, validation_split = 0.20, batch_size = 128, epochs = maxIt, verbose = 1)\n",
        "\n",
        "# print('\\n Test accuracy')\n",
        "# predictedY = model.predict(testX)\n",
        "# predictedY = predictedY.argmax(axis=1)\n",
        "# testY = testY.argmax(axis=1)\n",
        "# print(classification_report(testY, predictedY))\n",
        "\n",
        "print(model.summary())\n",
        "\n",
        "# plot the training loss and accuracy\n",
        "plt.style.use(\"ggplot\")\n",
        "plt.figure()\n",
        "# plt.plot(np.arange(0, maxIt), H.history[\"loss\"], label=\"train_loss\")\n",
        "# plt.plot(np.arange(0, maxIt), H.history[\"val_loss\"], label=\"val_loss\")\n",
        "plt.plot(np.arange(0, maxIt), H.history[\"accuracy\"], label=\"train_acc\")\n",
        "plt.plot(np.arange(0, maxIt), H.history[\"val_accuracy\"], label=\"val_acc\")\n",
        "plt.title(\"Training Loss and Accuracy\")\n",
        "plt.xlabel(\"Epoch #\")\n",
        "plt.ylabel(\"Loss/Accuracy\")\n",
        "plt.legend()"
      ],
      "execution_count": 13,
      "outputs": [
        {
          "output_type": "stream",
          "name": "stdout",
          "text": [
            "[INFO] training network...\n",
            "Epoch 1/10\n",
            "13/13 [==============================] - 4s 239ms/step - loss: 0.9369 - accuracy: 0.6447 - val_loss: 0.9086 - val_accuracy: 0.6913\n",
            "Epoch 2/10\n",
            "13/13 [==============================] - 3s 206ms/step - loss: 0.8915 - accuracy: 0.6780 - val_loss: 0.8558 - val_accuracy: 0.6913\n",
            "Epoch 3/10\n",
            "13/13 [==============================] - 3s 208ms/step - loss: 0.8318 - accuracy: 0.7297 - val_loss: 0.8706 - val_accuracy: 0.6913\n",
            "Epoch 4/10\n",
            "13/13 [==============================] - 3s 207ms/step - loss: 0.7941 - accuracy: 0.7521 - val_loss: 0.8726 - val_accuracy: 0.7015\n",
            "Epoch 5/10\n",
            "13/13 [==============================] - 3s 209ms/step - loss: 0.7769 - accuracy: 0.7655 - val_loss: 0.7526 - val_accuracy: 0.7883\n",
            "Epoch 6/10\n",
            "13/13 [==============================] - 3s 206ms/step - loss: 0.7427 - accuracy: 0.7744 - val_loss: 0.7545 - val_accuracy: 0.7653\n",
            "Epoch 7/10\n",
            "13/13 [==============================] - 3s 206ms/step - loss: 0.7324 - accuracy: 0.7751 - val_loss: 0.7433 - val_accuracy: 0.7755\n",
            "Epoch 8/10\n",
            "13/13 [==============================] - 3s 209ms/step - loss: 0.7279 - accuracy: 0.7815 - val_loss: 0.7554 - val_accuracy: 0.7423\n",
            "Epoch 9/10\n",
            "13/13 [==============================] - 3s 210ms/step - loss: 0.7081 - accuracy: 0.7866 - val_loss: 0.6964 - val_accuracy: 0.8240\n",
            "Epoch 10/10\n",
            "13/13 [==============================] - 3s 207ms/step - loss: 0.6883 - accuracy: 0.7968 - val_loss: 0.7116 - val_accuracy: 0.7679\n",
            "Model: \"sequential\"\n",
            "_________________________________________________________________\n",
            " Layer (type)                Output Shape              Param #   \n",
            "=================================================================\n",
            " conv2d (Conv2D)             (None, 224, 224, 32)      2432      \n",
            "                                                                 \n",
            " activation (Activation)     (None, 224, 224, 32)      0         \n",
            "                                                                 \n",
            " max_pooling2d (MaxPooling2D  (None, 112, 112, 32)     0         \n",
            " )                                                               \n",
            "                                                                 \n",
            " dropout (Dropout)           (None, 112, 112, 32)      0         \n",
            "                                                                 \n",
            " conv2d_1 (Conv2D)           (None, 112, 112, 64)      51264     \n",
            "                                                                 \n",
            " activation_1 (Activation)   (None, 112, 112, 64)      0         \n",
            "                                                                 \n",
            " max_pooling2d_1 (MaxPooling  (None, 56, 56, 64)       0         \n",
            " 2D)                                                             \n",
            "                                                                 \n",
            " dropout_1 (Dropout)         (None, 56, 56, 64)        0         \n",
            "                                                                 \n",
            " conv2d_2 (Conv2D)           (None, 56, 56, 128)       204928    \n",
            "                                                                 \n",
            " activation_2 (Activation)   (None, 56, 56, 128)       0         \n",
            "                                                                 \n",
            " dropout_2 (Dropout)         (None, 56, 56, 128)       0         \n",
            "                                                                 \n",
            " flatten (Flatten)           (None, 401408)            0         \n",
            "                                                                 \n",
            " dense (Dense)               (None, 500)               200704500 \n",
            "                                                                 \n",
            " activation_3 (Activation)   (None, 500)               0         \n",
            "                                                                 \n",
            " flatten_1 (Flatten)         (None, 500)               0         \n",
            "                                                                 \n",
            " dense_1 (Dense)             (None, 500)               250500    \n",
            "                                                                 \n",
            " activation_4 (Activation)   (None, 500)               0         \n",
            "                                                                 \n",
            " dropout_3 (Dropout)         (None, 500)               0         \n",
            "                                                                 \n",
            " dense_2 (Dense)             (None, 2)                 1002      \n",
            "                                                                 \n",
            " activation_5 (Activation)   (None, 2)                 0         \n",
            "                                                                 \n",
            "=================================================================\n",
            "Total params: 201,214,626\n",
            "Trainable params: 201,214,626\n",
            "Non-trainable params: 0\n",
            "_________________________________________________________________\n",
            "None\n"
          ]
        },
        {
          "output_type": "execute_result",
          "data": {
            "text/plain": [
              "<matplotlib.legend.Legend at 0x7fe00accd090>"
            ]
          },
          "metadata": {},
          "execution_count": 13
        },
        {
          "output_type": "display_data",
          "data": {
            "image/png": "[encoded data removed]",
            "text/plain": [
              "<Figure size 432x288 with 1 Axes>"
            ]
          },
          "metadata": {}
        }
      ]
    },
    {
      "cell_type": "markdown",
      "metadata": {
        "id": "HXhGPjm3IiiJ"
      },
      "source": [
        "## Adding another convolution layer"
      ]
    },
    {
      "cell_type": "code",
      "metadata": {
        "id": "DKljqyExIOBR"
      },
      "source": [
        "tf.keras.backend.clear_session()\n",
        "\n",
        "class LeNetReg:\n",
        "    # create the architecture\n",
        "    def build(height, width, depth, classes, lam1 = 0, lam2 = 0, dropout = [0, 0, 0, 0.5]):\n",
        "        # create a feedforward neural net\n",
        "        model = Sequential()\n",
        "        \n",
        "        # add a convolutional layer with 20 5x5 filters and a 2x2 max pooling layer\n",
        "        model.add(Conv2D(32, (5, 5), padding = 'same', input_shape = (height, width, depth),\n",
        "                         kernel_regularizer = l1_l2(l1 = lam1, l2 = lam2)))\n",
        "        model.add(Activation('relu'))\n",
        "        model.add(MaxPooling2D(pool_size = (2, 2), strides = (2, 2)))\n",
        "        model.add(Dropout(dropout[0]))\n",
        "        \n",
        "        # add another convolutional layer with 50 5x5 filters and a 2x2 max pooling layer\n",
        "        model.add(Conv2D(64, (5, 5), padding= 'same', kernel_regularizer = l1_l2(l1 = lam1, l2 = lam2)))\n",
        "        model.add(Activation('relu'))\n",
        "        model.add(MaxPooling2D(pool_size = (2, 2), strides = (2, 2)))\n",
        "        model.add(Dropout(dropout[1]))\n",
        "        \n",
        "        # add another convolutional layer\n",
        "        model.add(Conv2D(128, (5, 5), padding = 'same', kernel_regularizer = l1_l2(l1 = lam1, l2 = lam2)))\n",
        "        model.add(Activation('relu'))\n",
        "        model.add(Dropout(dropout[2]))\n",
        "\n",
        "        # add another convolutional layer with 50 5x5 filters and a 2x2 max pooling layer\n",
        "        model.add(Conv2D(256, (5, 5), padding= 'same', kernel_regularizer = l1_l2(l1 = lam1, l2 = lam2)))\n",
        "        model.add(Activation('relu'))\n",
        "        model.add(MaxPooling2D(pool_size = (2, 2), strides = (2, 2)))\n",
        "        model.add(Dropout(dropout[1]))\n",
        "        \n",
        "        # add a fully-connected layer\n",
        "        model.add(Flatten())\n",
        "        model.add(Dense(500))\n",
        "        model.add(Activation('relu'))\n",
        "        \n",
        "\n",
        "        # add a fully-connected layer\n",
        "        model.add(Flatten())\n",
        "        model.add(Dense(500))\n",
        "        model.add(Activation('relu'))\n",
        "\n",
        "        model.add(Dropout(dropout[3]))\n",
        "        \n",
        "        # add a softmax classifier\n",
        "        model.add(Dense(classes))\n",
        "        model.add(Activation('softmax'))\n",
        "        \n",
        "        # return the constructed model\n",
        "        return model"
      ],
      "execution_count": 8,
      "outputs": []
    },
    {
      "cell_type": "code",
      "metadata": {
        "id": "YxyQ0SAXIzM9",
        "colab": {
          "base_uri": "https://localhost:8080/",
          "height": 1000
        },
        "outputId": "0ccf3de5-bd0c-44d4-a7ad-a710e46b50e8"
      },
      "source": [
        "tf.keras.backend.clear_session()\n",
        "\n",
        "#((trainX, trainY), (testX, testY)) = mnist.load_data()\n",
        "\n",
        "model = LeNetReg.build(224, 224, 3, 2,0.1/trainX.shape[0], 0.1/trainX.shape[0],[0.1,0.2,0.2,0.2])\n",
        "model.compile(loss = 'categorical_crossentropy', optimizer = 'Adam', metrics = ['accuracy'])\n",
        "\n",
        "print(\"[INFO] training network...\")\n",
        "maxIt = 10\n",
        "H = model.fit(trainX, trainY, validation_split = 0.20, batch_size = 128, epochs = maxIt, verbose = 1)\n",
        "\n",
        "# print('\\n Test accuracy')\n",
        "# predictedY = model.predict(testX)\n",
        "# predictedY = predictedY.argmax(axis=1)\n",
        "# testY = testY.argmax(axis=1)\n",
        "# print(classification_report(testY, predictedY))\n",
        "\n",
        "print(model.summary())\n",
        "\n",
        "# plot the training loss and accuracy\n",
        "plt.style.use(\"ggplot\")\n",
        "plt.figure()\n",
        "# plt.plot(np.arange(0, maxIt), H.history[\"loss\"], label=\"train_loss\")\n",
        "# plt.plot(np.arange(0, maxIt), H.history[\"val_loss\"], label=\"val_loss\")\n",
        "plt.plot(np.arange(0, maxIt), H.history[\"accuracy\"], label=\"train_acc\")\n",
        "plt.plot(np.arange(0, maxIt), H.history[\"val_accuracy\"], label=\"val_acc\")\n",
        "plt.title(\"Training Loss and Accuracy\")\n",
        "plt.xlabel(\"Epoch #\")\n",
        "plt.ylabel(\"Loss/Accuracy\")\n",
        "plt.legend()"
      ],
      "execution_count": 10,
      "outputs": [
        {
          "output_type": "stream",
          "name": "stdout",
          "text": [
            "[INFO] training network...\n",
            "Epoch 1/10\n",
            "13/13 [==============================] - 9s 353ms/step - loss: 3.5548 - accuracy: 0.6217 - val_loss: 1.2711 - val_accuracy: 0.6633\n",
            "Epoch 2/10\n",
            "13/13 [==============================] - 3s 212ms/step - loss: 1.1684 - accuracy: 0.7246 - val_loss: 1.0975 - val_accuracy: 0.7347\n",
            "Epoch 3/10\n",
            "13/13 [==============================] - 3s 211ms/step - loss: 1.0031 - accuracy: 0.7776 - val_loss: 0.9819 - val_accuracy: 0.7704\n",
            "Epoch 4/10\n",
            "13/13 [==============================] - 3s 212ms/step - loss: 0.8921 - accuracy: 0.8192 - val_loss: 0.9213 - val_accuracy: 0.8138\n",
            "Epoch 5/10\n",
            "13/13 [==============================] - 3s 210ms/step - loss: 0.8041 - accuracy: 0.8601 - val_loss: 0.8137 - val_accuracy: 0.8571\n",
            "Epoch 6/10\n",
            "13/13 [==============================] - 3s 211ms/step - loss: 0.7198 - accuracy: 0.8843 - val_loss: 0.7383 - val_accuracy: 0.8929\n",
            "Epoch 7/10\n",
            "13/13 [==============================] - 3s 210ms/step - loss: 0.7014 - accuracy: 0.8856 - val_loss: 0.7939 - val_accuracy: 0.8240\n",
            "Epoch 8/10\n",
            "13/13 [==============================] - 3s 213ms/step - loss: 0.6675 - accuracy: 0.8907 - val_loss: 0.6884 - val_accuracy: 0.8954\n",
            "Epoch 9/10\n",
            "13/13 [==============================] - 3s 214ms/step - loss: 0.6118 - accuracy: 0.9067 - val_loss: 0.6485 - val_accuracy: 0.9107\n",
            "Epoch 10/10\n",
            "13/13 [==============================] - 3s 210ms/step - loss: 0.5547 - accuracy: 0.9240 - val_loss: 0.6445 - val_accuracy: 0.9005\n",
            "Model: \"sequential\"\n",
            "_________________________________________________________________\n",
            " Layer (type)                Output Shape              Param #   \n",
            "=================================================================\n",
            " conv2d (Conv2D)             (None, 224, 224, 32)      2432      \n",
            "                                                                 \n",
            " activation (Activation)     (None, 224, 224, 32)      0         \n",
            "                                                                 \n",
            " max_pooling2d (MaxPooling2D  (None, 112, 112, 32)     0         \n",
            " )                                                               \n",
            "                                                                 \n",
            " dropout (Dropout)           (None, 112, 112, 32)      0         \n",
            "                                                                 \n",
            " conv2d_1 (Conv2D)           (None, 112, 112, 64)      51264     \n",
            "                                                                 \n",
            " activation_1 (Activation)   (None, 112, 112, 64)      0         \n",
            "                                                                 \n",
            " max_pooling2d_1 (MaxPooling  (None, 56, 56, 64)       0         \n",
            " 2D)                                                             \n",
            "                                                                 \n",
            " dropout_1 (Dropout)         (None, 56, 56, 64)        0         \n",
            "                                                                 \n",
            " conv2d_2 (Conv2D)           (None, 56, 56, 128)       204928    \n",
            "                                                                 \n",
            " activation_2 (Activation)   (None, 56, 56, 128)       0         \n",
            "                                                                 \n",
            " dropout_2 (Dropout)         (None, 56, 56, 128)       0         \n",
            "                                                                 \n",
            " conv2d_3 (Conv2D)           (None, 56, 56, 256)       819456    \n",
            "                                                                 \n",
            " activation_3 (Activation)   (None, 56, 56, 256)       0         \n",
            "                                                                 \n",
            " max_pooling2d_2 (MaxPooling  (None, 28, 28, 256)      0         \n",
            " 2D)                                                             \n",
            "                                                                 \n",
            " dropout_3 (Dropout)         (None, 28, 28, 256)       0         \n",
            "                                                                 \n",
            " flatten (Flatten)           (None, 200704)            0         \n",
            "                                                                 \n",
            " dense (Dense)               (None, 500)               100352500 \n",
            "                                                                 \n",
            " activation_4 (Activation)   (None, 500)               0         \n",
            "                                                                 \n",
            " flatten_1 (Flatten)         (None, 500)               0         \n",
            "                                                                 \n",
            " dense_1 (Dense)             (None, 500)               250500    \n",
            "                                                                 \n",
            " activation_5 (Activation)   (None, 500)               0         \n",
            "                                                                 \n",
            " dropout_4 (Dropout)         (None, 500)               0         \n",
            "                                                                 \n",
            " dense_2 (Dense)             (None, 2)                 1002      \n",
            "                                                                 \n",
            " activation_6 (Activation)   (None, 2)                 0         \n",
            "                                                                 \n",
            "=================================================================\n",
            "Total params: 101,682,082\n",
            "Trainable params: 101,682,082\n",
            "Non-trainable params: 0\n",
            "_________________________________________________________________\n",
            "None\n"
          ]
        },
        {
          "output_type": "execute_result",
          "data": {
            "text/plain": [
              "<matplotlib.legend.Legend at 0x7f5f10358810>"
            ]
          },
          "metadata": {},
          "execution_count": 10
        },
        {
          "output_type": "display_data",
          "data": {
            "image/png": "[encoded data removed]",
            "text/plain": [
              "<Figure size 432x288 with 1 Axes>"
            ]
          },
          "metadata": {}
        }
      ]
    },
    {
      "cell_type": "markdown",
      "metadata": {
        "id": "9oZUIX1lRgTn"
      },
      "source": [
        "# Test on network that obtained the best accuracy "
      ]
    },
    {
      "cell_type": "code",
      "metadata": {
        "id": "odCUZ81xulAz"
      },
      "source": [
        "\n",
        "trainX = trainX.astype('float32')/255.0\n",
        "testX = testX.astype('float32')/255.0\n",
        "\n",
        "trainX = np.expand_dims(trainX, -1)\n",
        "testX = np.expand_dims(testX, -1)\n",
        "\n",
        "trainY = to_categorical(trainY, 2)\n",
        "testY = to_categorical(testY, 2)"
      ],
      "execution_count": 8,
      "outputs": []
    },
    {
      "cell_type": "code",
      "metadata": {
        "colab": {
          "base_uri": "https://localhost:8080/",
          "height": 1000
        },
        "id": "zG1ApTKOs3I2",
        "outputId": "c4e3ce28-995c-461c-e03e-f67b00dc20d3"
      },
      "source": [
        "tf.keras.backend.clear_session()\n",
        "\n",
        "model = LeNetReg.build(224, 224, 3, 2,0.1/trainX.shape[0], 0.1/trainX.shape[0],[0.1,0.2,0.2,0.2])\n",
        "model.compile(loss = 'categorical_crossentropy', optimizer = 'adam', metrics = ['accuracy'])\n",
        "\n",
        "print(\"[INFO] training network...\")\n",
        "maxIt = 10\n",
        "H = model.fit(trainX, trainY, validation_split = 0.20, batch_size = 32, epochs = maxIt, verbose = 1)\n",
        "\n",
        "print('\\n Test accuracy')\n",
        "predictedY = model.predict(testX)\n",
        "predictedY = predictedY.argmax(axis=1)\n",
        "testY = testY.argmax(axis=1)\n",
        "print(classification_report(testY, predictedY))\n",
        "\n",
        "sn.heatmap(confusion_matrix(testY, predictedY), annot = True)\n",
        "# plot the training loss and accuracy\n",
        "plt.style.use(\"ggplot\")\n",
        "plt.figure()\n",
        "\n",
        "plt.plot(np.arange(0, maxIt), H.history[\"accuracy\"], label=\"train_acc\")\n",
        "plt.plot(np.arange(0, maxIt), H.history[\"val_accuracy\"], label=\"val_acc\")\n",
        "plt.title(\"Training Loss and Accuracy\")\n",
        "plt.xlabel(\"Epoch #\")\n",
        "plt.ylabel(\"Loss/Accuracy\")\n",
        "plt.legend()"
      ],
      "execution_count": 9,
      "outputs": [
        {
          "output_type": "stream",
          "name": "stdout",
          "text": [
            "[INFO] training network...\n",
            "Epoch 1/10\n",
            "49/49 [==============================] - 20s 88ms/step - loss: 2.2509 - accuracy: 0.6626 - val_loss: 0.7612 - val_accuracy: 0.6709\n",
            "Epoch 2/10\n",
            "49/49 [==============================] - 3s 68ms/step - loss: 0.7058 - accuracy: 0.7444 - val_loss: 0.6298 - val_accuracy: 0.7908\n",
            "Epoch 3/10\n",
            "49/49 [==============================] - 3s 68ms/step - loss: 0.5341 - accuracy: 0.8479 - val_loss: 0.5645 - val_accuracy: 0.8214\n",
            "Epoch 4/10\n",
            "49/49 [==============================] - 3s 68ms/step - loss: 0.4616 - accuracy: 0.8812 - val_loss: 0.4441 - val_accuracy: 0.8776\n",
            "Epoch 5/10\n",
            "49/49 [==============================] - 3s 68ms/step - loss: 0.4095 - accuracy: 0.9105 - val_loss: 0.4052 - val_accuracy: 0.8827\n",
            "Epoch 6/10\n",
            "49/49 [==============================] - 3s 67ms/step - loss: 0.3214 - accuracy: 0.9374 - val_loss: 0.3503 - val_accuracy: 0.9235\n",
            "Epoch 7/10\n",
            "49/49 [==============================] - 3s 68ms/step - loss: 0.2715 - accuracy: 0.9565 - val_loss: 0.3261 - val_accuracy: 0.9362\n",
            "Epoch 8/10\n",
            "49/49 [==============================] - 3s 69ms/step - loss: 0.2145 - accuracy: 0.9783 - val_loss: 0.3830 - val_accuracy: 0.9184\n",
            "Epoch 9/10\n",
            "49/49 [==============================] - 3s 68ms/step - loss: 0.2137 - accuracy: 0.9757 - val_loss: 0.2862 - val_accuracy: 0.9464\n",
            "Epoch 10/10\n",
            "49/49 [==============================] - 3s 67ms/step - loss: 0.1958 - accuracy: 0.9821 - val_loss: 0.2545 - val_accuracy: 0.9668\n",
            "\n",
            " Test accuracy\n",
            "              precision    recall  f1-score   support\n",
            "\n",
            "           0       0.94      0.94      0.94       434\n",
            "           1       0.97      0.97      0.97       871\n",
            "\n",
            "    accuracy                           0.96      1305\n",
            "   macro avg       0.96      0.96      0.96      1305\n",
            "weighted avg       0.96      0.96      0.96      1305\n",
            "\n"
          ]
        },
        {
          "output_type": "execute_result",
          "data": {
            "text/plain": [
              "<matplotlib.legend.Legend at 0x7fe7302c11d0>"
            ]
          },
          "metadata": {},
          "execution_count": 9
        },
        {
          "output_type": "display_data",
          "data": {
            "image/png": "[encoded data removed]",
            "text/plain": [
              "<Figure size 432x288 with 2 Axes>"
            ]
          },
          "metadata": {
            "needs_background": "light"
          }
        },
        {
          "output_type": "display_data",
          "data": {
            "image/png": "[encoded data removed]",
            "text/plain": [
              "<Figure size 432x288 with 1 Axes>"
            ]
          },
          "metadata": {}
        }
      ]
    }
  ]
}